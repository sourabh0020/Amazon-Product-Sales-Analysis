{
 "cells": [
  {
   "cell_type": "markdown",
   "id": "7822b4d7-3186-4ced-a4be-848539cacab0",
   "metadata": {},
   "source": [
    "#                                                            Task\n",
    "### ***Exploring the Amazon Sales Dataset involves a step-by-step process. First, we clean and prepare the data to ensure it's accurate and consistent. Then, we summarize the data using descriptive statistics like averages and ranges. Next, we visualize the data with charts and graphs to see patterns and relationships. We detect outliers, which are unusual data points, and test our assumptions about the data. We divide the data into groups for better understanding and finally, we summarize our findings.***"
   ]
  },
  {
   "cell_type": "code",
   "execution_count": 126,
   "id": "749ba892-46e7-4805-bc42-5dc0f516455a",
   "metadata": {},
   "outputs": [],
   "source": [
    "import pandas as pd\n",
    "import numpy as np\n",
    "import matplotlib.pyplot as plt\n",
    "import seaborn as sns\n",
    "import scipy as sp\n",
    "# this is for jupyter notebook to show the plot in the notebook itself instead of opening a new window\n",
    "%matplotlib inline"
   ]
  },
  {
   "cell_type": "markdown",
   "id": "fc4d8869-0e07-40fe-9c11-03e4e48e679c",
   "metadata": {},
   "source": [
    "##      Imprtant Library\n",
    "### ***We will use the following libraries***\n",
    "### ***1. Pandas: Data manipulation and analysis***\n",
    "### ***2. Numpy: Numerical operations and calculations***\n",
    "### ***3. Matplotlib: Data visualization and plotting***\n",
    "### ***4. Seaborn: Enhanced data visualization and statistical graphics***\n",
    "### ***5. Scipy: Scientific computing and advanced mathematical operations***"
   ]
  },
  {
   "cell_type": "markdown",
   "id": "f2f41746-d836-4342-b175-7772805f3e78",
   "metadata": {},
   "source": [
    "# Data Loading And Exploration | Cleaning\n",
    "\n",
    "## Load a CSV file then creating a dataframe"
   ]
  },
  {
   "cell_type": "code",
   "execution_count": 5,
   "id": "0ab8aeb8-0200-4935-b65c-aab13df8714f",
   "metadata": {},
   "outputs": [
    {
     "data": {
      "text/html": [
       "<div>\n",
       "<style scoped>\n",
       "    .dataframe tbody tr th:only-of-type {\n",
       "        vertical-align: middle;\n",
       "    }\n",
       "\n",
       "    .dataframe tbody tr th {\n",
       "        vertical-align: top;\n",
       "    }\n",
       "\n",
       "    .dataframe thead th {\n",
       "        text-align: right;\n",
       "    }\n",
       "</style>\n",
       "<table border=\"1\" class=\"dataframe\">\n",
       "  <thead>\n",
       "    <tr style=\"text-align: right;\">\n",
       "      <th></th>\n",
       "      <th>product_id</th>\n",
       "      <th>product_name</th>\n",
       "      <th>category</th>\n",
       "      <th>discounted_price</th>\n",
       "      <th>actual_price</th>\n",
       "      <th>discount_percentage</th>\n",
       "      <th>rating</th>\n",
       "      <th>rating_count</th>\n",
       "      <th>about_product</th>\n",
       "      <th>user_id</th>\n",
       "      <th>user_name</th>\n",
       "      <th>review_id</th>\n",
       "      <th>review_title</th>\n",
       "      <th>review_content</th>\n",
       "      <th>img_link</th>\n",
       "      <th>product_link</th>\n",
       "    </tr>\n",
       "  </thead>\n",
       "  <tbody>\n",
       "    <tr>\n",
       "      <th>0</th>\n",
       "      <td>B07JW9H4J1</td>\n",
       "      <td>Wayona Nylon Braided USB to Lightning Fast Cha...</td>\n",
       "      <td>Computers&amp;Accessories|Accessories&amp;Peripherals|...</td>\n",
       "      <td>₹399</td>\n",
       "      <td>₹1,099</td>\n",
       "      <td>64%</td>\n",
       "      <td>4.2</td>\n",
       "      <td>24,269</td>\n",
       "      <td>High Compatibility : Compatible With iPhone 12...</td>\n",
       "      <td>AG3D6O4STAQKAY2UVGEUV46KN35Q,AHMY5CWJMMK5BJRBB...</td>\n",
       "      <td>Manav,Adarsh gupta,Sundeep,S.Sayeed Ahmed,jasp...</td>\n",
       "      <td>R3HXWT0LRP0NMF,R2AJM3LFTLZHFO,R6AQJGUP6P86,R1K...</td>\n",
       "      <td>Satisfied,Charging is really fast,Value for mo...</td>\n",
       "      <td>Looks durable Charging is fine tooNo complains...</td>\n",
       "      <td>https://m.media-amazon.com/images/W/WEBP_40237...</td>\n",
       "      <td>https://www.amazon.in/Wayona-Braided-WN3LG1-Sy...</td>\n",
       "    </tr>\n",
       "    <tr>\n",
       "      <th>1</th>\n",
       "      <td>B098NS6PVG</td>\n",
       "      <td>Ambrane Unbreakable 60W / 3A Fast Charging 1.5...</td>\n",
       "      <td>Computers&amp;Accessories|Accessories&amp;Peripherals|...</td>\n",
       "      <td>₹199</td>\n",
       "      <td>₹349</td>\n",
       "      <td>43%</td>\n",
       "      <td>4.0</td>\n",
       "      <td>43,994</td>\n",
       "      <td>Compatible with all Type C enabled devices, be...</td>\n",
       "      <td>AECPFYFQVRUWC3KGNLJIOREFP5LQ,AGYYVPDD7YG7FYNBX...</td>\n",
       "      <td>ArdKn,Nirbhay kumar,Sagar Viswanathan,Asp,Plac...</td>\n",
       "      <td>RGIQEG07R9HS2,R1SMWZQ86XIN8U,R2J3Y1WL29GWDE,RY...</td>\n",
       "      <td>A Good Braided Cable for Your Type C Device,Go...</td>\n",
       "      <td>I ordered this cable to connect my phone to An...</td>\n",
       "      <td>https://m.media-amazon.com/images/W/WEBP_40237...</td>\n",
       "      <td>https://www.amazon.in/Ambrane-Unbreakable-Char...</td>\n",
       "    </tr>\n",
       "    <tr>\n",
       "      <th>2</th>\n",
       "      <td>B096MSW6CT</td>\n",
       "      <td>Sounce Fast Phone Charging Cable &amp; Data Sync U...</td>\n",
       "      <td>Computers&amp;Accessories|Accessories&amp;Peripherals|...</td>\n",
       "      <td>₹199</td>\n",
       "      <td>₹1,899</td>\n",
       "      <td>90%</td>\n",
       "      <td>3.9</td>\n",
       "      <td>7,928</td>\n",
       "      <td>【 Fast Charger&amp; Data Sync】-With built-in safet...</td>\n",
       "      <td>AGU3BBQ2V2DDAMOAKGFAWDDQ6QHA,AESFLDV2PT363T2AQ...</td>\n",
       "      <td>Kunal,Himanshu,viswanath,sai niharka,saqib mal...</td>\n",
       "      <td>R3J3EQQ9TZI5ZJ,R3E7WBGK7ID0KV,RWU79XKQ6I1QF,R2...</td>\n",
       "      <td>Good speed for earlier versions,Good Product,W...</td>\n",
       "      <td>Not quite durable and sturdy,https://m.media-a...</td>\n",
       "      <td>https://m.media-amazon.com/images/W/WEBP_40237...</td>\n",
       "      <td>https://www.amazon.in/Sounce-iPhone-Charging-C...</td>\n",
       "    </tr>\n",
       "    <tr>\n",
       "      <th>3</th>\n",
       "      <td>B08HDJ86NZ</td>\n",
       "      <td>boAt Deuce USB 300 2 in 1 Type-C &amp; Micro USB S...</td>\n",
       "      <td>Computers&amp;Accessories|Accessories&amp;Peripherals|...</td>\n",
       "      <td>₹329</td>\n",
       "      <td>₹699</td>\n",
       "      <td>53%</td>\n",
       "      <td>4.2</td>\n",
       "      <td>94,363</td>\n",
       "      <td>The boAt Deuce USB 300 2 in 1 cable is compati...</td>\n",
       "      <td>AEWAZDZZJLQUYVOVGBEUKSLXHQ5A,AG5HTSFRRE6NL3M5S...</td>\n",
       "      <td>Omkar dhale,JD,HEMALATHA,Ajwadh a.,amar singh ...</td>\n",
       "      <td>R3EEUZKKK9J36I,R3HJVYCLYOY554,REDECAZ7AMPQC,R1...</td>\n",
       "      <td>Good product,Good one,Nice,Really nice product...</td>\n",
       "      <td>Good product,long wire,Charges good,Nice,I bou...</td>\n",
       "      <td>https://m.media-amazon.com/images/I/41V5FtEWPk...</td>\n",
       "      <td>https://www.amazon.in/Deuce-300-Resistant-Tang...</td>\n",
       "    </tr>\n",
       "    <tr>\n",
       "      <th>4</th>\n",
       "      <td>B08CF3B7N1</td>\n",
       "      <td>Portronics Konnect L 1.2M Fast Charging 3A 8 P...</td>\n",
       "      <td>Computers&amp;Accessories|Accessories&amp;Peripherals|...</td>\n",
       "      <td>₹154</td>\n",
       "      <td>₹399</td>\n",
       "      <td>61%</td>\n",
       "      <td>4.2</td>\n",
       "      <td>16,905</td>\n",
       "      <td>[CHARGE &amp; SYNC FUNCTION]- This cable comes wit...</td>\n",
       "      <td>AE3Q6KSUK5P75D5HFYHCRAOLODSA,AFUGIFH5ZAFXRDSZH...</td>\n",
       "      <td>rahuls6099,Swasat Borah,Ajay Wadke,Pranali,RVK...</td>\n",
       "      <td>R1BP4L2HH9TFUP,R16PVJEXKV6QZS,R2UPDB81N66T4P,R...</td>\n",
       "      <td>As good as original,Decent,Good one for second...</td>\n",
       "      <td>Bought this instead of original apple, does th...</td>\n",
       "      <td>https://m.media-amazon.com/images/W/WEBP_40237...</td>\n",
       "      <td>https://www.amazon.in/Portronics-Konnect-POR-1...</td>\n",
       "    </tr>\n",
       "    <tr>\n",
       "      <th>...</th>\n",
       "      <td>...</td>\n",
       "      <td>...</td>\n",
       "      <td>...</td>\n",
       "      <td>...</td>\n",
       "      <td>...</td>\n",
       "      <td>...</td>\n",
       "      <td>...</td>\n",
       "      <td>...</td>\n",
       "      <td>...</td>\n",
       "      <td>...</td>\n",
       "      <td>...</td>\n",
       "      <td>...</td>\n",
       "      <td>...</td>\n",
       "      <td>...</td>\n",
       "      <td>...</td>\n",
       "      <td>...</td>\n",
       "    </tr>\n",
       "    <tr>\n",
       "      <th>1460</th>\n",
       "      <td>B08L7J3T31</td>\n",
       "      <td>Noir Aqua - 5pcs PP Spun Filter + 1 Spanner | ...</td>\n",
       "      <td>Home&amp;Kitchen|Kitchen&amp;HomeAppliances|WaterPurif...</td>\n",
       "      <td>₹379</td>\n",
       "      <td>₹919</td>\n",
       "      <td>59%</td>\n",
       "      <td>4</td>\n",
       "      <td>1,090</td>\n",
       "      <td>SUPREME QUALITY 90 GRAM 3 LAYER THIK PP SPUN F...</td>\n",
       "      <td>AHITFY6AHALOFOHOZEOC6XBP4FEA,AFRABBODZJZQB6Z4U...</td>\n",
       "      <td>Prabha ds,Raghuram bk,Real Deal,Amazon Custome...</td>\n",
       "      <td>R3G3XFHPBFF0E8,R3C0BZCD32EIGW,R2EBVBCN9QPD9R,R...</td>\n",
       "      <td>Received the product without spanner,Excellent...</td>\n",
       "      <td>I received product without spanner,Excellent p...</td>\n",
       "      <td>https://m.media-amazon.com/images/I/41fDdRtjfx...</td>\n",
       "      <td>https://www.amazon.in/Noir-Aqua-Spanner-Purifi...</td>\n",
       "    </tr>\n",
       "    <tr>\n",
       "      <th>1461</th>\n",
       "      <td>B01M6453MB</td>\n",
       "      <td>Prestige Delight PRWO Electric Rice Cooker (1 ...</td>\n",
       "      <td>Home&amp;Kitchen|Kitchen&amp;HomeAppliances|SmallKitch...</td>\n",
       "      <td>₹2,280</td>\n",
       "      <td>₹3,045</td>\n",
       "      <td>25%</td>\n",
       "      <td>4.1</td>\n",
       "      <td>4,118</td>\n",
       "      <td>230 Volts, 400 watts, 1 Year</td>\n",
       "      <td>AFG5FM3NEMOL6BNFRV2NK5FNJCHQ,AGEINTRN6Z563RMLH...</td>\n",
       "      <td>Manu Bhai,Naveenpittu,Evatira Sangma,JAGANNADH...</td>\n",
       "      <td>R3DDL2UPKQ2CK9,R2SYYU1OATVIU5,R1VM993161IYRW,R...</td>\n",
       "      <td>ok,everything was good couldn't return bcoz I ...</td>\n",
       "      <td>ok,got everything as mentioned but the measuri...</td>\n",
       "      <td>https://m.media-amazon.com/images/I/41gzDxk4+k...</td>\n",
       "      <td>https://www.amazon.in/Prestige-Delight-PRWO-1-...</td>\n",
       "    </tr>\n",
       "    <tr>\n",
       "      <th>1462</th>\n",
       "      <td>B009P2LIL4</td>\n",
       "      <td>Bajaj Majesty RX10 2000 Watts Heat Convector R...</td>\n",
       "      <td>Home&amp;Kitchen|Heating,Cooling&amp;AirQuality|RoomHe...</td>\n",
       "      <td>₹2,219</td>\n",
       "      <td>₹3,080</td>\n",
       "      <td>28%</td>\n",
       "      <td>3.6</td>\n",
       "      <td>468</td>\n",
       "      <td>International design and styling|Two heat sett...</td>\n",
       "      <td>AGVPWCMAHYQWJOQKMUJN4DW3KM5Q,AF4Q3E66MY4SR7YQZ...</td>\n",
       "      <td>Nehal Desai,Danish Parwez,Amazon Customer,Amaz...</td>\n",
       "      <td>R1TLRJVW4STY5I,R2O455KRN493R1,R3Q5MVGBRIAS2G,R...</td>\n",
       "      <td>very good,Work but front melt after 2 month,Go...</td>\n",
       "      <td>plastic but cool body ,u have to find sturdy s...</td>\n",
       "      <td>https://m.media-amazon.com/images/W/WEBP_40237...</td>\n",
       "      <td>https://www.amazon.in/Bajaj-RX-10-2000-Watt-Co...</td>\n",
       "    </tr>\n",
       "    <tr>\n",
       "      <th>1463</th>\n",
       "      <td>B00J5DYCCA</td>\n",
       "      <td>Havells Ventil Air DSP 230mm Exhaust Fan (Pist...</td>\n",
       "      <td>Home&amp;Kitchen|Heating,Cooling&amp;AirQuality|Fans|E...</td>\n",
       "      <td>₹1,399</td>\n",
       "      <td>₹1,890</td>\n",
       "      <td>26%</td>\n",
       "      <td>4</td>\n",
       "      <td>8,031</td>\n",
       "      <td>Fan sweep area: 230 MM ; Noise level: (40 - 45...</td>\n",
       "      <td>AF2JQCLSCY3QJATWUNNHUSVUPNQQ,AFDMLUXC5LS5RXDJS...</td>\n",
       "      <td>Shubham Dubey,E.GURUBARAN,Mayank S.,eusuf khan...</td>\n",
       "      <td>R39Q2Y79MM9SWK,R3079BG1NIH6MB,R29A31ZELTZNJM,R...</td>\n",
       "      <td>Fan Speed is slow,Good quality,Good product,go...</td>\n",
       "      <td>I have installed this in my kitchen working fi...</td>\n",
       "      <td>https://m.media-amazon.com/images/W/WEBP_40237...</td>\n",
       "      <td>https://www.amazon.in/Havells-Ventilair-230mm-...</td>\n",
       "    </tr>\n",
       "    <tr>\n",
       "      <th>1464</th>\n",
       "      <td>B01486F4G6</td>\n",
       "      <td>Borosil Jumbo 1000-Watt Grill Sandwich Maker (...</td>\n",
       "      <td>Home&amp;Kitchen|Kitchen&amp;HomeAppliances|SmallKitch...</td>\n",
       "      <td>₹2,863</td>\n",
       "      <td>₹3,690</td>\n",
       "      <td>22%</td>\n",
       "      <td>4.3</td>\n",
       "      <td>6,987</td>\n",
       "      <td>Brand-Borosil, Specification â€“ 23V ~ 5Hz;1 W...</td>\n",
       "      <td>AFGW5PT3R6ZAVQR4Y5MWVAKBZAYA,AG7QNJ2SCS5VS5VYY...</td>\n",
       "      <td>Rajib,Ajay B,Vikas Kahol,PARDEEP,Anindya Prama...</td>\n",
       "      <td>R20RBRZ0WEUJT9,ROKIFK9R2ISSE,R30EEG2FNJSN5I,R2...</td>\n",
       "      <td>Works perfect,Ok good product,Nice Product. Re...</td>\n",
       "      <td>It does it job perfectly..only issue is temp c...</td>\n",
       "      <td>https://m.media-amazon.com/images/W/WEBP_40237...</td>\n",
       "      <td>https://www.amazon.in/Borosil-Jumbo-1000-Watt-...</td>\n",
       "    </tr>\n",
       "  </tbody>\n",
       "</table>\n",
       "<p>1465 rows × 16 columns</p>\n",
       "</div>"
      ],
      "text/plain": [
       "      product_id                                       product_name  \\\n",
       "0     B07JW9H4J1  Wayona Nylon Braided USB to Lightning Fast Cha...   \n",
       "1     B098NS6PVG  Ambrane Unbreakable 60W / 3A Fast Charging 1.5...   \n",
       "2     B096MSW6CT  Sounce Fast Phone Charging Cable & Data Sync U...   \n",
       "3     B08HDJ86NZ  boAt Deuce USB 300 2 in 1 Type-C & Micro USB S...   \n",
       "4     B08CF3B7N1  Portronics Konnect L 1.2M Fast Charging 3A 8 P...   \n",
       "...          ...                                                ...   \n",
       "1460  B08L7J3T31  Noir Aqua - 5pcs PP Spun Filter + 1 Spanner | ...   \n",
       "1461  B01M6453MB  Prestige Delight PRWO Electric Rice Cooker (1 ...   \n",
       "1462  B009P2LIL4  Bajaj Majesty RX10 2000 Watts Heat Convector R...   \n",
       "1463  B00J5DYCCA  Havells Ventil Air DSP 230mm Exhaust Fan (Pist...   \n",
       "1464  B01486F4G6  Borosil Jumbo 1000-Watt Grill Sandwich Maker (...   \n",
       "\n",
       "                                               category discounted_price  \\\n",
       "0     Computers&Accessories|Accessories&Peripherals|...             ₹399   \n",
       "1     Computers&Accessories|Accessories&Peripherals|...             ₹199   \n",
       "2     Computers&Accessories|Accessories&Peripherals|...             ₹199   \n",
       "3     Computers&Accessories|Accessories&Peripherals|...             ₹329   \n",
       "4     Computers&Accessories|Accessories&Peripherals|...             ₹154   \n",
       "...                                                 ...              ...   \n",
       "1460  Home&Kitchen|Kitchen&HomeAppliances|WaterPurif...             ₹379   \n",
       "1461  Home&Kitchen|Kitchen&HomeAppliances|SmallKitch...           ₹2,280   \n",
       "1462  Home&Kitchen|Heating,Cooling&AirQuality|RoomHe...           ₹2,219   \n",
       "1463  Home&Kitchen|Heating,Cooling&AirQuality|Fans|E...           ₹1,399   \n",
       "1464  Home&Kitchen|Kitchen&HomeAppliances|SmallKitch...           ₹2,863   \n",
       "\n",
       "     actual_price discount_percentage rating rating_count  \\\n",
       "0          ₹1,099                 64%    4.2       24,269   \n",
       "1            ₹349                 43%    4.0       43,994   \n",
       "2          ₹1,899                 90%    3.9        7,928   \n",
       "3            ₹699                 53%    4.2       94,363   \n",
       "4            ₹399                 61%    4.2       16,905   \n",
       "...           ...                 ...    ...          ...   \n",
       "1460         ₹919                 59%      4        1,090   \n",
       "1461       ₹3,045                 25%    4.1        4,118   \n",
       "1462       ₹3,080                 28%    3.6          468   \n",
       "1463       ₹1,890                 26%      4        8,031   \n",
       "1464       ₹3,690                 22%    4.3        6,987   \n",
       "\n",
       "                                          about_product  \\\n",
       "0     High Compatibility : Compatible With iPhone 12...   \n",
       "1     Compatible with all Type C enabled devices, be...   \n",
       "2     【 Fast Charger& Data Sync】-With built-in safet...   \n",
       "3     The boAt Deuce USB 300 2 in 1 cable is compati...   \n",
       "4     [CHARGE & SYNC FUNCTION]- This cable comes wit...   \n",
       "...                                                 ...   \n",
       "1460  SUPREME QUALITY 90 GRAM 3 LAYER THIK PP SPUN F...   \n",
       "1461                       230 Volts, 400 watts, 1 Year   \n",
       "1462  International design and styling|Two heat sett...   \n",
       "1463  Fan sweep area: 230 MM ; Noise level: (40 - 45...   \n",
       "1464  Brand-Borosil, Specification â€“ 23V ~ 5Hz;1 W...   \n",
       "\n",
       "                                                user_id  \\\n",
       "0     AG3D6O4STAQKAY2UVGEUV46KN35Q,AHMY5CWJMMK5BJRBB...   \n",
       "1     AECPFYFQVRUWC3KGNLJIOREFP5LQ,AGYYVPDD7YG7FYNBX...   \n",
       "2     AGU3BBQ2V2DDAMOAKGFAWDDQ6QHA,AESFLDV2PT363T2AQ...   \n",
       "3     AEWAZDZZJLQUYVOVGBEUKSLXHQ5A,AG5HTSFRRE6NL3M5S...   \n",
       "4     AE3Q6KSUK5P75D5HFYHCRAOLODSA,AFUGIFH5ZAFXRDSZH...   \n",
       "...                                                 ...   \n",
       "1460  AHITFY6AHALOFOHOZEOC6XBP4FEA,AFRABBODZJZQB6Z4U...   \n",
       "1461  AFG5FM3NEMOL6BNFRV2NK5FNJCHQ,AGEINTRN6Z563RMLH...   \n",
       "1462  AGVPWCMAHYQWJOQKMUJN4DW3KM5Q,AF4Q3E66MY4SR7YQZ...   \n",
       "1463  AF2JQCLSCY3QJATWUNNHUSVUPNQQ,AFDMLUXC5LS5RXDJS...   \n",
       "1464  AFGW5PT3R6ZAVQR4Y5MWVAKBZAYA,AG7QNJ2SCS5VS5VYY...   \n",
       "\n",
       "                                              user_name  \\\n",
       "0     Manav,Adarsh gupta,Sundeep,S.Sayeed Ahmed,jasp...   \n",
       "1     ArdKn,Nirbhay kumar,Sagar Viswanathan,Asp,Plac...   \n",
       "2     Kunal,Himanshu,viswanath,sai niharka,saqib mal...   \n",
       "3     Omkar dhale,JD,HEMALATHA,Ajwadh a.,amar singh ...   \n",
       "4     rahuls6099,Swasat Borah,Ajay Wadke,Pranali,RVK...   \n",
       "...                                                 ...   \n",
       "1460  Prabha ds,Raghuram bk,Real Deal,Amazon Custome...   \n",
       "1461  Manu Bhai,Naveenpittu,Evatira Sangma,JAGANNADH...   \n",
       "1462  Nehal Desai,Danish Parwez,Amazon Customer,Amaz...   \n",
       "1463  Shubham Dubey,E.GURUBARAN,Mayank S.,eusuf khan...   \n",
       "1464  Rajib,Ajay B,Vikas Kahol,PARDEEP,Anindya Prama...   \n",
       "\n",
       "                                              review_id  \\\n",
       "0     R3HXWT0LRP0NMF,R2AJM3LFTLZHFO,R6AQJGUP6P86,R1K...   \n",
       "1     RGIQEG07R9HS2,R1SMWZQ86XIN8U,R2J3Y1WL29GWDE,RY...   \n",
       "2     R3J3EQQ9TZI5ZJ,R3E7WBGK7ID0KV,RWU79XKQ6I1QF,R2...   \n",
       "3     R3EEUZKKK9J36I,R3HJVYCLYOY554,REDECAZ7AMPQC,R1...   \n",
       "4     R1BP4L2HH9TFUP,R16PVJEXKV6QZS,R2UPDB81N66T4P,R...   \n",
       "...                                                 ...   \n",
       "1460  R3G3XFHPBFF0E8,R3C0BZCD32EIGW,R2EBVBCN9QPD9R,R...   \n",
       "1461  R3DDL2UPKQ2CK9,R2SYYU1OATVIU5,R1VM993161IYRW,R...   \n",
       "1462  R1TLRJVW4STY5I,R2O455KRN493R1,R3Q5MVGBRIAS2G,R...   \n",
       "1463  R39Q2Y79MM9SWK,R3079BG1NIH6MB,R29A31ZELTZNJM,R...   \n",
       "1464  R20RBRZ0WEUJT9,ROKIFK9R2ISSE,R30EEG2FNJSN5I,R2...   \n",
       "\n",
       "                                           review_title  \\\n",
       "0     Satisfied,Charging is really fast,Value for mo...   \n",
       "1     A Good Braided Cable for Your Type C Device,Go...   \n",
       "2     Good speed for earlier versions,Good Product,W...   \n",
       "3     Good product,Good one,Nice,Really nice product...   \n",
       "4     As good as original,Decent,Good one for second...   \n",
       "...                                                 ...   \n",
       "1460  Received the product without spanner,Excellent...   \n",
       "1461  ok,everything was good couldn't return bcoz I ...   \n",
       "1462  very good,Work but front melt after 2 month,Go...   \n",
       "1463  Fan Speed is slow,Good quality,Good product,go...   \n",
       "1464  Works perfect,Ok good product,Nice Product. Re...   \n",
       "\n",
       "                                         review_content  \\\n",
       "0     Looks durable Charging is fine tooNo complains...   \n",
       "1     I ordered this cable to connect my phone to An...   \n",
       "2     Not quite durable and sturdy,https://m.media-a...   \n",
       "3     Good product,long wire,Charges good,Nice,I bou...   \n",
       "4     Bought this instead of original apple, does th...   \n",
       "...                                                 ...   \n",
       "1460  I received product without spanner,Excellent p...   \n",
       "1461  ok,got everything as mentioned but the measuri...   \n",
       "1462  plastic but cool body ,u have to find sturdy s...   \n",
       "1463  I have installed this in my kitchen working fi...   \n",
       "1464  It does it job perfectly..only issue is temp c...   \n",
       "\n",
       "                                               img_link  \\\n",
       "0     https://m.media-amazon.com/images/W/WEBP_40237...   \n",
       "1     https://m.media-amazon.com/images/W/WEBP_40237...   \n",
       "2     https://m.media-amazon.com/images/W/WEBP_40237...   \n",
       "3     https://m.media-amazon.com/images/I/41V5FtEWPk...   \n",
       "4     https://m.media-amazon.com/images/W/WEBP_40237...   \n",
       "...                                                 ...   \n",
       "1460  https://m.media-amazon.com/images/I/41fDdRtjfx...   \n",
       "1461  https://m.media-amazon.com/images/I/41gzDxk4+k...   \n",
       "1462  https://m.media-amazon.com/images/W/WEBP_40237...   \n",
       "1463  https://m.media-amazon.com/images/W/WEBP_40237...   \n",
       "1464  https://m.media-amazon.com/images/W/WEBP_40237...   \n",
       "\n",
       "                                           product_link  \n",
       "0     https://www.amazon.in/Wayona-Braided-WN3LG1-Sy...  \n",
       "1     https://www.amazon.in/Ambrane-Unbreakable-Char...  \n",
       "2     https://www.amazon.in/Sounce-iPhone-Charging-C...  \n",
       "3     https://www.amazon.in/Deuce-300-Resistant-Tang...  \n",
       "4     https://www.amazon.in/Portronics-Konnect-POR-1...  \n",
       "...                                                 ...  \n",
       "1460  https://www.amazon.in/Noir-Aqua-Spanner-Purifi...  \n",
       "1461  https://www.amazon.in/Prestige-Delight-PRWO-1-...  \n",
       "1462  https://www.amazon.in/Bajaj-RX-10-2000-Watt-Co...  \n",
       "1463  https://www.amazon.in/Havells-Ventilair-230mm-...  \n",
       "1464  https://www.amazon.in/Borosil-Jumbo-1000-Watt-...  \n",
       "\n",
       "[1465 rows x 16 columns]"
      ]
     },
     "execution_count": 5,
     "metadata": {},
     "output_type": "execute_result"
    }
   ],
   "source": [
    "df = pd.read_csv(\"amazon.csv\")\n",
    "df"
   ]
  },
  {
   "cell_type": "markdown",
   "id": "5fbe4e7b-ec10-4c3e-81c7-5a61b24c550f",
   "metadata": {},
   "source": [
    "# Set the option to show maximum columns"
   ]
  },
  {
   "cell_type": "code",
   "execution_count": 7,
   "id": "0b2d981e-8eac-4d1b-beff-562f889e41a3",
   "metadata": {},
   "outputs": [],
   "source": [
    "pd.set_option('display.max_columns', None) "
   ]
  },
  {
   "cell_type": "markdown",
   "id": "113c3605-f336-407e-9fc7-f8ef01f75ee2",
   "metadata": {},
   "source": [
    "# Look into the Data for exploration\n",
    "\n",
    "### ***The purpose of a Data exploration is to get a quick overview of the data and identify any potential problems or areas of interest.***"
   ]
  },
  {
   "cell_type": "code",
   "execution_count": 9,
   "id": "f0250a3e-6394-4298-817c-e2bf71917e25",
   "metadata": {},
   "outputs": [
    {
     "data": {
      "text/html": [
       "<div>\n",
       "<style scoped>\n",
       "    .dataframe tbody tr th:only-of-type {\n",
       "        vertical-align: middle;\n",
       "    }\n",
       "\n",
       "    .dataframe tbody tr th {\n",
       "        vertical-align: top;\n",
       "    }\n",
       "\n",
       "    .dataframe thead th {\n",
       "        text-align: right;\n",
       "    }\n",
       "</style>\n",
       "<table border=\"1\" class=\"dataframe\">\n",
       "  <thead>\n",
       "    <tr style=\"text-align: right;\">\n",
       "      <th></th>\n",
       "      <th>product_id</th>\n",
       "      <th>product_name</th>\n",
       "      <th>category</th>\n",
       "      <th>discounted_price</th>\n",
       "      <th>actual_price</th>\n",
       "      <th>discount_percentage</th>\n",
       "      <th>rating</th>\n",
       "      <th>rating_count</th>\n",
       "      <th>about_product</th>\n",
       "      <th>user_id</th>\n",
       "      <th>user_name</th>\n",
       "      <th>review_id</th>\n",
       "      <th>review_title</th>\n",
       "      <th>review_content</th>\n",
       "      <th>img_link</th>\n",
       "      <th>product_link</th>\n",
       "    </tr>\n",
       "  </thead>\n",
       "  <tbody>\n",
       "    <tr>\n",
       "      <th>0</th>\n",
       "      <td>B07JW9H4J1</td>\n",
       "      <td>Wayona Nylon Braided USB to Lightning Fast Cha...</td>\n",
       "      <td>Computers&amp;Accessories|Accessories&amp;Peripherals|...</td>\n",
       "      <td>₹399</td>\n",
       "      <td>₹1,099</td>\n",
       "      <td>64%</td>\n",
       "      <td>4.2</td>\n",
       "      <td>24,269</td>\n",
       "      <td>High Compatibility : Compatible With iPhone 12...</td>\n",
       "      <td>AG3D6O4STAQKAY2UVGEUV46KN35Q,AHMY5CWJMMK5BJRBB...</td>\n",
       "      <td>Manav,Adarsh gupta,Sundeep,S.Sayeed Ahmed,jasp...</td>\n",
       "      <td>R3HXWT0LRP0NMF,R2AJM3LFTLZHFO,R6AQJGUP6P86,R1K...</td>\n",
       "      <td>Satisfied,Charging is really fast,Value for mo...</td>\n",
       "      <td>Looks durable Charging is fine tooNo complains...</td>\n",
       "      <td>https://m.media-amazon.com/images/W/WEBP_40237...</td>\n",
       "      <td>https://www.amazon.in/Wayona-Braided-WN3LG1-Sy...</td>\n",
       "    </tr>\n",
       "    <tr>\n",
       "      <th>1</th>\n",
       "      <td>B098NS6PVG</td>\n",
       "      <td>Ambrane Unbreakable 60W / 3A Fast Charging 1.5...</td>\n",
       "      <td>Computers&amp;Accessories|Accessories&amp;Peripherals|...</td>\n",
       "      <td>₹199</td>\n",
       "      <td>₹349</td>\n",
       "      <td>43%</td>\n",
       "      <td>4.0</td>\n",
       "      <td>43,994</td>\n",
       "      <td>Compatible with all Type C enabled devices, be...</td>\n",
       "      <td>AECPFYFQVRUWC3KGNLJIOREFP5LQ,AGYYVPDD7YG7FYNBX...</td>\n",
       "      <td>ArdKn,Nirbhay kumar,Sagar Viswanathan,Asp,Plac...</td>\n",
       "      <td>RGIQEG07R9HS2,R1SMWZQ86XIN8U,R2J3Y1WL29GWDE,RY...</td>\n",
       "      <td>A Good Braided Cable for Your Type C Device,Go...</td>\n",
       "      <td>I ordered this cable to connect my phone to An...</td>\n",
       "      <td>https://m.media-amazon.com/images/W/WEBP_40237...</td>\n",
       "      <td>https://www.amazon.in/Ambrane-Unbreakable-Char...</td>\n",
       "    </tr>\n",
       "    <tr>\n",
       "      <th>2</th>\n",
       "      <td>B096MSW6CT</td>\n",
       "      <td>Sounce Fast Phone Charging Cable &amp; Data Sync U...</td>\n",
       "      <td>Computers&amp;Accessories|Accessories&amp;Peripherals|...</td>\n",
       "      <td>₹199</td>\n",
       "      <td>₹1,899</td>\n",
       "      <td>90%</td>\n",
       "      <td>3.9</td>\n",
       "      <td>7,928</td>\n",
       "      <td>【 Fast Charger&amp; Data Sync】-With built-in safet...</td>\n",
       "      <td>AGU3BBQ2V2DDAMOAKGFAWDDQ6QHA,AESFLDV2PT363T2AQ...</td>\n",
       "      <td>Kunal,Himanshu,viswanath,sai niharka,saqib mal...</td>\n",
       "      <td>R3J3EQQ9TZI5ZJ,R3E7WBGK7ID0KV,RWU79XKQ6I1QF,R2...</td>\n",
       "      <td>Good speed for earlier versions,Good Product,W...</td>\n",
       "      <td>Not quite durable and sturdy,https://m.media-a...</td>\n",
       "      <td>https://m.media-amazon.com/images/W/WEBP_40237...</td>\n",
       "      <td>https://www.amazon.in/Sounce-iPhone-Charging-C...</td>\n",
       "    </tr>\n",
       "    <tr>\n",
       "      <th>3</th>\n",
       "      <td>B08HDJ86NZ</td>\n",
       "      <td>boAt Deuce USB 300 2 in 1 Type-C &amp; Micro USB S...</td>\n",
       "      <td>Computers&amp;Accessories|Accessories&amp;Peripherals|...</td>\n",
       "      <td>₹329</td>\n",
       "      <td>₹699</td>\n",
       "      <td>53%</td>\n",
       "      <td>4.2</td>\n",
       "      <td>94,363</td>\n",
       "      <td>The boAt Deuce USB 300 2 in 1 cable is compati...</td>\n",
       "      <td>AEWAZDZZJLQUYVOVGBEUKSLXHQ5A,AG5HTSFRRE6NL3M5S...</td>\n",
       "      <td>Omkar dhale,JD,HEMALATHA,Ajwadh a.,amar singh ...</td>\n",
       "      <td>R3EEUZKKK9J36I,R3HJVYCLYOY554,REDECAZ7AMPQC,R1...</td>\n",
       "      <td>Good product,Good one,Nice,Really nice product...</td>\n",
       "      <td>Good product,long wire,Charges good,Nice,I bou...</td>\n",
       "      <td>https://m.media-amazon.com/images/I/41V5FtEWPk...</td>\n",
       "      <td>https://www.amazon.in/Deuce-300-Resistant-Tang...</td>\n",
       "    </tr>\n",
       "    <tr>\n",
       "      <th>4</th>\n",
       "      <td>B08CF3B7N1</td>\n",
       "      <td>Portronics Konnect L 1.2M Fast Charging 3A 8 P...</td>\n",
       "      <td>Computers&amp;Accessories|Accessories&amp;Peripherals|...</td>\n",
       "      <td>₹154</td>\n",
       "      <td>₹399</td>\n",
       "      <td>61%</td>\n",
       "      <td>4.2</td>\n",
       "      <td>16,905</td>\n",
       "      <td>[CHARGE &amp; SYNC FUNCTION]- This cable comes wit...</td>\n",
       "      <td>AE3Q6KSUK5P75D5HFYHCRAOLODSA,AFUGIFH5ZAFXRDSZH...</td>\n",
       "      <td>rahuls6099,Swasat Borah,Ajay Wadke,Pranali,RVK...</td>\n",
       "      <td>R1BP4L2HH9TFUP,R16PVJEXKV6QZS,R2UPDB81N66T4P,R...</td>\n",
       "      <td>As good as original,Decent,Good one for second...</td>\n",
       "      <td>Bought this instead of original apple, does th...</td>\n",
       "      <td>https://m.media-amazon.com/images/W/WEBP_40237...</td>\n",
       "      <td>https://www.amazon.in/Portronics-Konnect-POR-1...</td>\n",
       "    </tr>\n",
       "  </tbody>\n",
       "</table>\n",
       "</div>"
      ],
      "text/plain": [
       "   product_id                                       product_name  \\\n",
       "0  B07JW9H4J1  Wayona Nylon Braided USB to Lightning Fast Cha...   \n",
       "1  B098NS6PVG  Ambrane Unbreakable 60W / 3A Fast Charging 1.5...   \n",
       "2  B096MSW6CT  Sounce Fast Phone Charging Cable & Data Sync U...   \n",
       "3  B08HDJ86NZ  boAt Deuce USB 300 2 in 1 Type-C & Micro USB S...   \n",
       "4  B08CF3B7N1  Portronics Konnect L 1.2M Fast Charging 3A 8 P...   \n",
       "\n",
       "                                            category discounted_price  \\\n",
       "0  Computers&Accessories|Accessories&Peripherals|...             ₹399   \n",
       "1  Computers&Accessories|Accessories&Peripherals|...             ₹199   \n",
       "2  Computers&Accessories|Accessories&Peripherals|...             ₹199   \n",
       "3  Computers&Accessories|Accessories&Peripherals|...             ₹329   \n",
       "4  Computers&Accessories|Accessories&Peripherals|...             ₹154   \n",
       "\n",
       "  actual_price discount_percentage rating rating_count  \\\n",
       "0       ₹1,099                 64%    4.2       24,269   \n",
       "1         ₹349                 43%    4.0       43,994   \n",
       "2       ₹1,899                 90%    3.9        7,928   \n",
       "3         ₹699                 53%    4.2       94,363   \n",
       "4         ₹399                 61%    4.2       16,905   \n",
       "\n",
       "                                       about_product  \\\n",
       "0  High Compatibility : Compatible With iPhone 12...   \n",
       "1  Compatible with all Type C enabled devices, be...   \n",
       "2  【 Fast Charger& Data Sync】-With built-in safet...   \n",
       "3  The boAt Deuce USB 300 2 in 1 cable is compati...   \n",
       "4  [CHARGE & SYNC FUNCTION]- This cable comes wit...   \n",
       "\n",
       "                                             user_id  \\\n",
       "0  AG3D6O4STAQKAY2UVGEUV46KN35Q,AHMY5CWJMMK5BJRBB...   \n",
       "1  AECPFYFQVRUWC3KGNLJIOREFP5LQ,AGYYVPDD7YG7FYNBX...   \n",
       "2  AGU3BBQ2V2DDAMOAKGFAWDDQ6QHA,AESFLDV2PT363T2AQ...   \n",
       "3  AEWAZDZZJLQUYVOVGBEUKSLXHQ5A,AG5HTSFRRE6NL3M5S...   \n",
       "4  AE3Q6KSUK5P75D5HFYHCRAOLODSA,AFUGIFH5ZAFXRDSZH...   \n",
       "\n",
       "                                           user_name  \\\n",
       "0  Manav,Adarsh gupta,Sundeep,S.Sayeed Ahmed,jasp...   \n",
       "1  ArdKn,Nirbhay kumar,Sagar Viswanathan,Asp,Plac...   \n",
       "2  Kunal,Himanshu,viswanath,sai niharka,saqib mal...   \n",
       "3  Omkar dhale,JD,HEMALATHA,Ajwadh a.,amar singh ...   \n",
       "4  rahuls6099,Swasat Borah,Ajay Wadke,Pranali,RVK...   \n",
       "\n",
       "                                           review_id  \\\n",
       "0  R3HXWT0LRP0NMF,R2AJM3LFTLZHFO,R6AQJGUP6P86,R1K...   \n",
       "1  RGIQEG07R9HS2,R1SMWZQ86XIN8U,R2J3Y1WL29GWDE,RY...   \n",
       "2  R3J3EQQ9TZI5ZJ,R3E7WBGK7ID0KV,RWU79XKQ6I1QF,R2...   \n",
       "3  R3EEUZKKK9J36I,R3HJVYCLYOY554,REDECAZ7AMPQC,R1...   \n",
       "4  R1BP4L2HH9TFUP,R16PVJEXKV6QZS,R2UPDB81N66T4P,R...   \n",
       "\n",
       "                                        review_title  \\\n",
       "0  Satisfied,Charging is really fast,Value for mo...   \n",
       "1  A Good Braided Cable for Your Type C Device,Go...   \n",
       "2  Good speed for earlier versions,Good Product,W...   \n",
       "3  Good product,Good one,Nice,Really nice product...   \n",
       "4  As good as original,Decent,Good one for second...   \n",
       "\n",
       "                                      review_content  \\\n",
       "0  Looks durable Charging is fine tooNo complains...   \n",
       "1  I ordered this cable to connect my phone to An...   \n",
       "2  Not quite durable and sturdy,https://m.media-a...   \n",
       "3  Good product,long wire,Charges good,Nice,I bou...   \n",
       "4  Bought this instead of original apple, does th...   \n",
       "\n",
       "                                            img_link  \\\n",
       "0  https://m.media-amazon.com/images/W/WEBP_40237...   \n",
       "1  https://m.media-amazon.com/images/W/WEBP_40237...   \n",
       "2  https://m.media-amazon.com/images/W/WEBP_40237...   \n",
       "3  https://m.media-amazon.com/images/I/41V5FtEWPk...   \n",
       "4  https://m.media-amazon.com/images/W/WEBP_40237...   \n",
       "\n",
       "                                        product_link  \n",
       "0  https://www.amazon.in/Wayona-Braided-WN3LG1-Sy...  \n",
       "1  https://www.amazon.in/Ambrane-Unbreakable-Char...  \n",
       "2  https://www.amazon.in/Sounce-iPhone-Charging-C...  \n",
       "3  https://www.amazon.in/Deuce-300-Resistant-Tang...  \n",
       "4  https://www.amazon.in/Portronics-Konnect-POR-1...  "
      ]
     },
     "execution_count": 9,
     "metadata": {},
     "output_type": "execute_result"
    }
   ],
   "source": [
    "# Let's have a look on top 5 rows of the data\n",
    "df.head(5)"
   ]
  },
  {
   "cell_type": "markdown",
   "id": "dcb782fe-6ec2-48a5-92d6-a4d5a1fbf1d7",
   "metadata": {},
   "source": [
    "# Column Names"
   ]
  },
  {
   "cell_type": "code",
   "execution_count": 11,
   "id": "73dd4513-a9fe-43f9-9441-05997becaf40",
   "metadata": {},
   "outputs": [
    {
     "data": {
      "text/plain": [
       "Index(['product_id', 'product_name', 'category', 'discounted_price',\n",
       "       'actual_price', 'discount_percentage', 'rating', 'rating_count',\n",
       "       'about_product', 'user_id', 'user_name', 'review_id', 'review_title',\n",
       "       'review_content', 'img_link', 'product_link'],\n",
       "      dtype='object')"
      ]
     },
     "execution_count": 11,
     "metadata": {},
     "output_type": "execute_result"
    }
   ],
   "source": [
    "df.columns"
   ]
  },
  {
   "cell_type": "markdown",
   "id": "85c33ba6-a75a-48f5-ba56-c59e89f6c3f6",
   "metadata": {},
   "source": [
    "# Shape of the Data "
   ]
  },
  {
   "cell_type": "code",
   "execution_count": 13,
   "id": "fd36f878-7771-44d3-a87d-2bd8247fb1a5",
   "metadata": {},
   "outputs": [
    {
     "name": "stdout",
     "output_type": "stream",
     "text": [
      "The number of rows are 1465 and number of columns are 16\n"
     ]
    }
   ],
   "source": [
    "print(f\"The number of rows are {df.shape[0]} and number of columns are {df.shape[1]}\")"
   ]
  },
  {
   "cell_type": "markdown",
   "id": "461e7aa0-a539-44a8-b02b-a4d4a9c96a7f",
   "metadata": {},
   "source": [
    "# Now we\"ll look on the columns and their data types using info function"
   ]
  },
  {
   "cell_type": "code",
   "execution_count": 15,
   "id": "72b2f6bf-2ac5-448f-92c3-bfdff6738d72",
   "metadata": {},
   "outputs": [
    {
     "name": "stdout",
     "output_type": "stream",
     "text": [
      "<class 'pandas.core.frame.DataFrame'>\n",
      "RangeIndex: 1465 entries, 0 to 1464\n",
      "Data columns (total 16 columns):\n",
      " #   Column               Non-Null Count  Dtype \n",
      "---  ------               --------------  ----- \n",
      " 0   product_id           1465 non-null   object\n",
      " 1   product_name         1465 non-null   object\n",
      " 2   category             1465 non-null   object\n",
      " 3   discounted_price     1465 non-null   object\n",
      " 4   actual_price         1465 non-null   object\n",
      " 5   discount_percentage  1465 non-null   object\n",
      " 6   rating               1465 non-null   object\n",
      " 7   rating_count         1463 non-null   object\n",
      " 8   about_product        1465 non-null   object\n",
      " 9   user_id              1465 non-null   object\n",
      " 10  user_name            1465 non-null   object\n",
      " 11  review_id            1465 non-null   object\n",
      " 12  review_title         1465 non-null   object\n",
      " 13  review_content       1465 non-null   object\n",
      " 14  img_link             1465 non-null   object\n",
      " 15  product_link         1465 non-null   object\n",
      "dtypes: object(16)\n",
      "memory usage: 183.3+ KB\n"
     ]
    }
   ],
   "source": [
    "df.info()"
   ]
  },
  {
   "cell_type": "markdown",
   "id": "ff4f987f-4296-4f32-b196-ed5a81d8b297",
   "metadata": {},
   "source": [
    "# Look for null value in each coulmn "
   ]
  },
  {
   "cell_type": "code",
   "execution_count": 17,
   "id": "1218558d-34fb-4402-a399-32d9c7112b53",
   "metadata": {},
   "outputs": [
    {
     "data": {
      "text/plain": [
       "product_id             0\n",
       "product_name           0\n",
       "category               0\n",
       "discounted_price       0\n",
       "actual_price           0\n",
       "discount_percentage    0\n",
       "rating                 0\n",
       "rating_count           2\n",
       "about_product          0\n",
       "user_id                0\n",
       "user_name              0\n",
       "review_id              0\n",
       "review_title           0\n",
       "review_content         0\n",
       "img_link               0\n",
       "product_link           0\n",
       "dtype: int64"
      ]
     },
     "execution_count": 17,
     "metadata": {},
     "output_type": "execute_result"
    }
   ],
   "source": [
    "df.isnull().sum()"
   ]
  },
  {
   "cell_type": "markdown",
   "id": "8c02d8b9-fda3-45d6-ba5f-aaab18c003a9",
   "metadata": {},
   "source": [
    "# Observation 1\n",
    "\n",
    "- ***There are 1465 rows and 16 columns in the dataset.***\n",
    "- ***The data type of all columns  is object.***\n",
    "-  ***The columns in the datasets are:***\n",
    "   - ***'product_id', 'product_name', 'category', 'discounted_price',\n",
    "      'actual_price', 'discount_percentage', 'rating', 'rating_count',\n",
    "      'about_product', 'user_id', 'user_name', 'review_id', 'review_title',\n",
    "      'review_content', 'img_link', 'product_link'***\n",
    "- ***There are a few missing values in the dataset, which we will read in detail and deal with later on in the notebook.***"
   ]
  },
  {
   "cell_type": "markdown",
   "id": "cd2c6aa6-2d26-42fe-8bf8-867e31b3c4d9",
   "metadata": {},
   "source": [
    "# Changing Data Types of Columns from object to float of numercical columns discounted and actual price , discount percentage"
   ]
  },
  {
   "cell_type": "code",
   "execution_count": 19,
   "id": "fbb32774-b26f-4978-9eb4-8391230fa7e0",
   "metadata": {},
   "outputs": [],
   "source": [
    "# discounted price\n",
    "df['discounted_price'] = df['discounted_price'].str.replace('[₹,]','',regex = True).astype('float64')\n",
    "\n",
    "# actual price\n",
    "df['actual_price'] = df['actual_price'].str.replace('[₹,]','',regex = True).astype('float64')\n",
    "\n",
    "# discounted percentage"
   ]
  },
  {
   "cell_type": "code",
   "execution_count": 21,
   "id": "d656d6ca-46b0-42ca-a5ef-909045588c64",
   "metadata": {},
   "outputs": [],
   "source": [
    "df['discount_percentage'] = df['discount_percentage'].str.replace('%','',regex = True).astype('float64')"
   ]
  },
  {
   "cell_type": "markdown",
   "id": "12a62fd3-6bc4-40f2-8f7b-55671857ccac",
   "metadata": {},
   "source": [
    "# changing from % to decimal percent"
   ]
  },
  {
   "cell_type": "code",
   "execution_count": 23,
   "id": "a5f415fe-67db-4771-8fec-fe2b7014e84c",
   "metadata": {},
   "outputs": [],
   "source": [
    "df['discount_percentage'] = df['discount_percentage'] / 100"
   ]
  },
  {
   "cell_type": "code",
   "execution_count": 25,
   "id": "b2cef8d1-4e12-41ab-830a-8017cc4487a0",
   "metadata": {},
   "outputs": [
    {
     "data": {
      "text/html": [
       "<div>\n",
       "<style scoped>\n",
       "    .dataframe tbody tr th:only-of-type {\n",
       "        vertical-align: middle;\n",
       "    }\n",
       "\n",
       "    .dataframe tbody tr th {\n",
       "        vertical-align: top;\n",
       "    }\n",
       "\n",
       "    .dataframe thead th {\n",
       "        text-align: right;\n",
       "    }\n",
       "</style>\n",
       "<table border=\"1\" class=\"dataframe\">\n",
       "  <thead>\n",
       "    <tr style=\"text-align: right;\">\n",
       "      <th></th>\n",
       "      <th>product_id</th>\n",
       "      <th>product_name</th>\n",
       "      <th>category</th>\n",
       "      <th>discounted_price</th>\n",
       "      <th>actual_price</th>\n",
       "      <th>discount_percentage</th>\n",
       "      <th>rating</th>\n",
       "      <th>rating_count</th>\n",
       "      <th>about_product</th>\n",
       "      <th>user_id</th>\n",
       "      <th>user_name</th>\n",
       "      <th>review_id</th>\n",
       "      <th>review_title</th>\n",
       "      <th>review_content</th>\n",
       "      <th>img_link</th>\n",
       "      <th>product_link</th>\n",
       "    </tr>\n",
       "  </thead>\n",
       "  <tbody>\n",
       "    <tr>\n",
       "      <th>0</th>\n",
       "      <td>B07JW9H4J1</td>\n",
       "      <td>Wayona Nylon Braided USB to Lightning Fast Cha...</td>\n",
       "      <td>Computers&amp;Accessories|Accessories&amp;Peripherals|...</td>\n",
       "      <td>399.0</td>\n",
       "      <td>1099.0</td>\n",
       "      <td>0.64</td>\n",
       "      <td>4.2</td>\n",
       "      <td>24,269</td>\n",
       "      <td>High Compatibility : Compatible With iPhone 12...</td>\n",
       "      <td>AG3D6O4STAQKAY2UVGEUV46KN35Q,AHMY5CWJMMK5BJRBB...</td>\n",
       "      <td>Manav,Adarsh gupta,Sundeep,S.Sayeed Ahmed,jasp...</td>\n",
       "      <td>R3HXWT0LRP0NMF,R2AJM3LFTLZHFO,R6AQJGUP6P86,R1K...</td>\n",
       "      <td>Satisfied,Charging is really fast,Value for mo...</td>\n",
       "      <td>Looks durable Charging is fine tooNo complains...</td>\n",
       "      <td>https://m.media-amazon.com/images/W/WEBP_40237...</td>\n",
       "      <td>https://www.amazon.in/Wayona-Braided-WN3LG1-Sy...</td>\n",
       "    </tr>\n",
       "    <tr>\n",
       "      <th>1</th>\n",
       "      <td>B098NS6PVG</td>\n",
       "      <td>Ambrane Unbreakable 60W / 3A Fast Charging 1.5...</td>\n",
       "      <td>Computers&amp;Accessories|Accessories&amp;Peripherals|...</td>\n",
       "      <td>199.0</td>\n",
       "      <td>349.0</td>\n",
       "      <td>0.43</td>\n",
       "      <td>4.0</td>\n",
       "      <td>43,994</td>\n",
       "      <td>Compatible with all Type C enabled devices, be...</td>\n",
       "      <td>AECPFYFQVRUWC3KGNLJIOREFP5LQ,AGYYVPDD7YG7FYNBX...</td>\n",
       "      <td>ArdKn,Nirbhay kumar,Sagar Viswanathan,Asp,Plac...</td>\n",
       "      <td>RGIQEG07R9HS2,R1SMWZQ86XIN8U,R2J3Y1WL29GWDE,RY...</td>\n",
       "      <td>A Good Braided Cable for Your Type C Device,Go...</td>\n",
       "      <td>I ordered this cable to connect my phone to An...</td>\n",
       "      <td>https://m.media-amazon.com/images/W/WEBP_40237...</td>\n",
       "      <td>https://www.amazon.in/Ambrane-Unbreakable-Char...</td>\n",
       "    </tr>\n",
       "    <tr>\n",
       "      <th>2</th>\n",
       "      <td>B096MSW6CT</td>\n",
       "      <td>Sounce Fast Phone Charging Cable &amp; Data Sync U...</td>\n",
       "      <td>Computers&amp;Accessories|Accessories&amp;Peripherals|...</td>\n",
       "      <td>199.0</td>\n",
       "      <td>1899.0</td>\n",
       "      <td>0.90</td>\n",
       "      <td>3.9</td>\n",
       "      <td>7,928</td>\n",
       "      <td>【 Fast Charger&amp; Data Sync】-With built-in safet...</td>\n",
       "      <td>AGU3BBQ2V2DDAMOAKGFAWDDQ6QHA,AESFLDV2PT363T2AQ...</td>\n",
       "      <td>Kunal,Himanshu,viswanath,sai niharka,saqib mal...</td>\n",
       "      <td>R3J3EQQ9TZI5ZJ,R3E7WBGK7ID0KV,RWU79XKQ6I1QF,R2...</td>\n",
       "      <td>Good speed for earlier versions,Good Product,W...</td>\n",
       "      <td>Not quite durable and sturdy,https://m.media-a...</td>\n",
       "      <td>https://m.media-amazon.com/images/W/WEBP_40237...</td>\n",
       "      <td>https://www.amazon.in/Sounce-iPhone-Charging-C...</td>\n",
       "    </tr>\n",
       "    <tr>\n",
       "      <th>3</th>\n",
       "      <td>B08HDJ86NZ</td>\n",
       "      <td>boAt Deuce USB 300 2 in 1 Type-C &amp; Micro USB S...</td>\n",
       "      <td>Computers&amp;Accessories|Accessories&amp;Peripherals|...</td>\n",
       "      <td>329.0</td>\n",
       "      <td>699.0</td>\n",
       "      <td>0.53</td>\n",
       "      <td>4.2</td>\n",
       "      <td>94,363</td>\n",
       "      <td>The boAt Deuce USB 300 2 in 1 cable is compati...</td>\n",
       "      <td>AEWAZDZZJLQUYVOVGBEUKSLXHQ5A,AG5HTSFRRE6NL3M5S...</td>\n",
       "      <td>Omkar dhale,JD,HEMALATHA,Ajwadh a.,amar singh ...</td>\n",
       "      <td>R3EEUZKKK9J36I,R3HJVYCLYOY554,REDECAZ7AMPQC,R1...</td>\n",
       "      <td>Good product,Good one,Nice,Really nice product...</td>\n",
       "      <td>Good product,long wire,Charges good,Nice,I bou...</td>\n",
       "      <td>https://m.media-amazon.com/images/I/41V5FtEWPk...</td>\n",
       "      <td>https://www.amazon.in/Deuce-300-Resistant-Tang...</td>\n",
       "    </tr>\n",
       "    <tr>\n",
       "      <th>4</th>\n",
       "      <td>B08CF3B7N1</td>\n",
       "      <td>Portronics Konnect L 1.2M Fast Charging 3A 8 P...</td>\n",
       "      <td>Computers&amp;Accessories|Accessories&amp;Peripherals|...</td>\n",
       "      <td>154.0</td>\n",
       "      <td>399.0</td>\n",
       "      <td>0.61</td>\n",
       "      <td>4.2</td>\n",
       "      <td>16,905</td>\n",
       "      <td>[CHARGE &amp; SYNC FUNCTION]- This cable comes wit...</td>\n",
       "      <td>AE3Q6KSUK5P75D5HFYHCRAOLODSA,AFUGIFH5ZAFXRDSZH...</td>\n",
       "      <td>rahuls6099,Swasat Borah,Ajay Wadke,Pranali,RVK...</td>\n",
       "      <td>R1BP4L2HH9TFUP,R16PVJEXKV6QZS,R2UPDB81N66T4P,R...</td>\n",
       "      <td>As good as original,Decent,Good one for second...</td>\n",
       "      <td>Bought this instead of original apple, does th...</td>\n",
       "      <td>https://m.media-amazon.com/images/W/WEBP_40237...</td>\n",
       "      <td>https://www.amazon.in/Portronics-Konnect-POR-1...</td>\n",
       "    </tr>\n",
       "  </tbody>\n",
       "</table>\n",
       "</div>"
      ],
      "text/plain": [
       "   product_id                                       product_name  \\\n",
       "0  B07JW9H4J1  Wayona Nylon Braided USB to Lightning Fast Cha...   \n",
       "1  B098NS6PVG  Ambrane Unbreakable 60W / 3A Fast Charging 1.5...   \n",
       "2  B096MSW6CT  Sounce Fast Phone Charging Cable & Data Sync U...   \n",
       "3  B08HDJ86NZ  boAt Deuce USB 300 2 in 1 Type-C & Micro USB S...   \n",
       "4  B08CF3B7N1  Portronics Konnect L 1.2M Fast Charging 3A 8 P...   \n",
       "\n",
       "                                            category  discounted_price  \\\n",
       "0  Computers&Accessories|Accessories&Peripherals|...             399.0   \n",
       "1  Computers&Accessories|Accessories&Peripherals|...             199.0   \n",
       "2  Computers&Accessories|Accessories&Peripherals|...             199.0   \n",
       "3  Computers&Accessories|Accessories&Peripherals|...             329.0   \n",
       "4  Computers&Accessories|Accessories&Peripherals|...             154.0   \n",
       "\n",
       "   actual_price  discount_percentage rating rating_count  \\\n",
       "0        1099.0                 0.64    4.2       24,269   \n",
       "1         349.0                 0.43    4.0       43,994   \n",
       "2        1899.0                 0.90    3.9        7,928   \n",
       "3         699.0                 0.53    4.2       94,363   \n",
       "4         399.0                 0.61    4.2       16,905   \n",
       "\n",
       "                                       about_product  \\\n",
       "0  High Compatibility : Compatible With iPhone 12...   \n",
       "1  Compatible with all Type C enabled devices, be...   \n",
       "2  【 Fast Charger& Data Sync】-With built-in safet...   \n",
       "3  The boAt Deuce USB 300 2 in 1 cable is compati...   \n",
       "4  [CHARGE & SYNC FUNCTION]- This cable comes wit...   \n",
       "\n",
       "                                             user_id  \\\n",
       "0  AG3D6O4STAQKAY2UVGEUV46KN35Q,AHMY5CWJMMK5BJRBB...   \n",
       "1  AECPFYFQVRUWC3KGNLJIOREFP5LQ,AGYYVPDD7YG7FYNBX...   \n",
       "2  AGU3BBQ2V2DDAMOAKGFAWDDQ6QHA,AESFLDV2PT363T2AQ...   \n",
       "3  AEWAZDZZJLQUYVOVGBEUKSLXHQ5A,AG5HTSFRRE6NL3M5S...   \n",
       "4  AE3Q6KSUK5P75D5HFYHCRAOLODSA,AFUGIFH5ZAFXRDSZH...   \n",
       "\n",
       "                                           user_name  \\\n",
       "0  Manav,Adarsh gupta,Sundeep,S.Sayeed Ahmed,jasp...   \n",
       "1  ArdKn,Nirbhay kumar,Sagar Viswanathan,Asp,Plac...   \n",
       "2  Kunal,Himanshu,viswanath,sai niharka,saqib mal...   \n",
       "3  Omkar dhale,JD,HEMALATHA,Ajwadh a.,amar singh ...   \n",
       "4  rahuls6099,Swasat Borah,Ajay Wadke,Pranali,RVK...   \n",
       "\n",
       "                                           review_id  \\\n",
       "0  R3HXWT0LRP0NMF,R2AJM3LFTLZHFO,R6AQJGUP6P86,R1K...   \n",
       "1  RGIQEG07R9HS2,R1SMWZQ86XIN8U,R2J3Y1WL29GWDE,RY...   \n",
       "2  R3J3EQQ9TZI5ZJ,R3E7WBGK7ID0KV,RWU79XKQ6I1QF,R2...   \n",
       "3  R3EEUZKKK9J36I,R3HJVYCLYOY554,REDECAZ7AMPQC,R1...   \n",
       "4  R1BP4L2HH9TFUP,R16PVJEXKV6QZS,R2UPDB81N66T4P,R...   \n",
       "\n",
       "                                        review_title  \\\n",
       "0  Satisfied,Charging is really fast,Value for mo...   \n",
       "1  A Good Braided Cable for Your Type C Device,Go...   \n",
       "2  Good speed for earlier versions,Good Product,W...   \n",
       "3  Good product,Good one,Nice,Really nice product...   \n",
       "4  As good as original,Decent,Good one for second...   \n",
       "\n",
       "                                      review_content  \\\n",
       "0  Looks durable Charging is fine tooNo complains...   \n",
       "1  I ordered this cable to connect my phone to An...   \n",
       "2  Not quite durable and sturdy,https://m.media-a...   \n",
       "3  Good product,long wire,Charges good,Nice,I bou...   \n",
       "4  Bought this instead of original apple, does th...   \n",
       "\n",
       "                                            img_link  \\\n",
       "0  https://m.media-amazon.com/images/W/WEBP_40237...   \n",
       "1  https://m.media-amazon.com/images/W/WEBP_40237...   \n",
       "2  https://m.media-amazon.com/images/W/WEBP_40237...   \n",
       "3  https://m.media-amazon.com/images/I/41V5FtEWPk...   \n",
       "4  https://m.media-amazon.com/images/W/WEBP_40237...   \n",
       "\n",
       "                                        product_link  \n",
       "0  https://www.amazon.in/Wayona-Braided-WN3LG1-Sy...  \n",
       "1  https://www.amazon.in/Ambrane-Unbreakable-Char...  \n",
       "2  https://www.amazon.in/Sounce-iPhone-Charging-C...  \n",
       "3  https://www.amazon.in/Deuce-300-Resistant-Tang...  \n",
       "4  https://www.amazon.in/Portronics-Konnect-POR-1...  "
      ]
     },
     "execution_count": 25,
     "metadata": {},
     "output_type": "execute_result"
    }
   ],
   "source": [
    "df.head()"
   ]
  },
  {
   "cell_type": "code",
   "execution_count": 27,
   "id": "8659d9ff-e5dc-40d4-8604-3dd192fba0eb",
   "metadata": {},
   "outputs": [
    {
     "name": "stdout",
     "output_type": "stream",
     "text": [
      "<class 'pandas.core.frame.DataFrame'>\n",
      "RangeIndex: 1465 entries, 0 to 1464\n",
      "Data columns (total 16 columns):\n",
      " #   Column               Non-Null Count  Dtype  \n",
      "---  ------               --------------  -----  \n",
      " 0   product_id           1465 non-null   object \n",
      " 1   product_name         1465 non-null   object \n",
      " 2   category             1465 non-null   object \n",
      " 3   discounted_price     1465 non-null   float64\n",
      " 4   actual_price         1465 non-null   float64\n",
      " 5   discount_percentage  1465 non-null   float64\n",
      " 6   rating               1465 non-null   object \n",
      " 7   rating_count         1463 non-null   object \n",
      " 8   about_product        1465 non-null   object \n",
      " 9   user_id              1465 non-null   object \n",
      " 10  user_name            1465 non-null   object \n",
      " 11  review_id            1465 non-null   object \n",
      " 12  review_title         1465 non-null   object \n",
      " 13  review_content       1465 non-null   object \n",
      " 14  img_link             1465 non-null   object \n",
      " 15  product_link         1465 non-null   object \n",
      "dtypes: float64(3), object(13)\n",
      "memory usage: 183.3+ KB\n"
     ]
    }
   ],
   "source": [
    "df.info()"
   ]
  },
  {
   "cell_type": "markdown",
   "id": "049a48e0-8821-483e-8a8f-d8f75c8bb31b",
   "metadata": {},
   "source": [
    "# we can see rating and Rating count are also in object we need them as int or float but rating count have 2 null value so first we convert rating only"
   ]
  },
  {
   "cell_type": "code",
   "execution_count": 29,
   "id": "6579080e-e329-4081-bf8c-b426ecb5295c",
   "metadata": {},
   "outputs": [
    {
     "ename": "ValueError",
     "evalue": "could not convert string to float: '|'",
     "output_type": "error",
     "traceback": [
      "\u001b[1;31m---------------------------------------------------------------------------\u001b[0m",
      "\u001b[1;31mValueError\u001b[0m                                Traceback (most recent call last)",
      "Cell \u001b[1;32mIn[29], line 1\u001b[0m\n\u001b[1;32m----> 1\u001b[0m df[\u001b[38;5;124m'\u001b[39m\u001b[38;5;124mrating\u001b[39m\u001b[38;5;124m'\u001b[39m] \u001b[38;5;241m=\u001b[39m df[\u001b[38;5;124m'\u001b[39m\u001b[38;5;124mrating\u001b[39m\u001b[38;5;124m'\u001b[39m]\u001b[38;5;241m.\u001b[39mastype(\u001b[38;5;124m'\u001b[39m\u001b[38;5;124mfloat64\u001b[39m\u001b[38;5;124m'\u001b[39m)\n",
      "File \u001b[1;32mG:\\anaconda\\Lib\\site-packages\\pandas\\core\\generic.py:6643\u001b[0m, in \u001b[0;36mNDFrame.astype\u001b[1;34m(self, dtype, copy, errors)\u001b[0m\n\u001b[0;32m   6637\u001b[0m     results \u001b[38;5;241m=\u001b[39m [\n\u001b[0;32m   6638\u001b[0m         ser\u001b[38;5;241m.\u001b[39mastype(dtype, copy\u001b[38;5;241m=\u001b[39mcopy, errors\u001b[38;5;241m=\u001b[39merrors) \u001b[38;5;28;01mfor\u001b[39;00m _, ser \u001b[38;5;129;01min\u001b[39;00m \u001b[38;5;28mself\u001b[39m\u001b[38;5;241m.\u001b[39mitems()\n\u001b[0;32m   6639\u001b[0m     ]\n\u001b[0;32m   6641\u001b[0m \u001b[38;5;28;01melse\u001b[39;00m:\n\u001b[0;32m   6642\u001b[0m     \u001b[38;5;66;03m# else, only a single dtype is given\u001b[39;00m\n\u001b[1;32m-> 6643\u001b[0m     new_data \u001b[38;5;241m=\u001b[39m \u001b[38;5;28mself\u001b[39m\u001b[38;5;241m.\u001b[39m_mgr\u001b[38;5;241m.\u001b[39mastype(dtype\u001b[38;5;241m=\u001b[39mdtype, copy\u001b[38;5;241m=\u001b[39mcopy, errors\u001b[38;5;241m=\u001b[39merrors)\n\u001b[0;32m   6644\u001b[0m     res \u001b[38;5;241m=\u001b[39m \u001b[38;5;28mself\u001b[39m\u001b[38;5;241m.\u001b[39m_constructor_from_mgr(new_data, axes\u001b[38;5;241m=\u001b[39mnew_data\u001b[38;5;241m.\u001b[39maxes)\n\u001b[0;32m   6645\u001b[0m     \u001b[38;5;28;01mreturn\u001b[39;00m res\u001b[38;5;241m.\u001b[39m__finalize__(\u001b[38;5;28mself\u001b[39m, method\u001b[38;5;241m=\u001b[39m\u001b[38;5;124m\"\u001b[39m\u001b[38;5;124mastype\u001b[39m\u001b[38;5;124m\"\u001b[39m)\n",
      "File \u001b[1;32mG:\\anaconda\\Lib\\site-packages\\pandas\\core\\internals\\managers.py:430\u001b[0m, in \u001b[0;36mBaseBlockManager.astype\u001b[1;34m(self, dtype, copy, errors)\u001b[0m\n\u001b[0;32m    427\u001b[0m \u001b[38;5;28;01melif\u001b[39;00m using_copy_on_write():\n\u001b[0;32m    428\u001b[0m     copy \u001b[38;5;241m=\u001b[39m \u001b[38;5;28;01mFalse\u001b[39;00m\n\u001b[1;32m--> 430\u001b[0m \u001b[38;5;28;01mreturn\u001b[39;00m \u001b[38;5;28mself\u001b[39m\u001b[38;5;241m.\u001b[39mapply(\n\u001b[0;32m    431\u001b[0m     \u001b[38;5;124m\"\u001b[39m\u001b[38;5;124mastype\u001b[39m\u001b[38;5;124m\"\u001b[39m,\n\u001b[0;32m    432\u001b[0m     dtype\u001b[38;5;241m=\u001b[39mdtype,\n\u001b[0;32m    433\u001b[0m     copy\u001b[38;5;241m=\u001b[39mcopy,\n\u001b[0;32m    434\u001b[0m     errors\u001b[38;5;241m=\u001b[39merrors,\n\u001b[0;32m    435\u001b[0m     using_cow\u001b[38;5;241m=\u001b[39musing_copy_on_write(),\n\u001b[0;32m    436\u001b[0m )\n",
      "File \u001b[1;32mG:\\anaconda\\Lib\\site-packages\\pandas\\core\\internals\\managers.py:363\u001b[0m, in \u001b[0;36mBaseBlockManager.apply\u001b[1;34m(self, f, align_keys, **kwargs)\u001b[0m\n\u001b[0;32m    361\u001b[0m         applied \u001b[38;5;241m=\u001b[39m b\u001b[38;5;241m.\u001b[39mapply(f, \u001b[38;5;241m*\u001b[39m\u001b[38;5;241m*\u001b[39mkwargs)\n\u001b[0;32m    362\u001b[0m     \u001b[38;5;28;01melse\u001b[39;00m:\n\u001b[1;32m--> 363\u001b[0m         applied \u001b[38;5;241m=\u001b[39m \u001b[38;5;28mgetattr\u001b[39m(b, f)(\u001b[38;5;241m*\u001b[39m\u001b[38;5;241m*\u001b[39mkwargs)\n\u001b[0;32m    364\u001b[0m     result_blocks \u001b[38;5;241m=\u001b[39m extend_blocks(applied, result_blocks)\n\u001b[0;32m    366\u001b[0m out \u001b[38;5;241m=\u001b[39m \u001b[38;5;28mtype\u001b[39m(\u001b[38;5;28mself\u001b[39m)\u001b[38;5;241m.\u001b[39mfrom_blocks(result_blocks, \u001b[38;5;28mself\u001b[39m\u001b[38;5;241m.\u001b[39maxes)\n",
      "File \u001b[1;32mG:\\anaconda\\Lib\\site-packages\\pandas\\core\\internals\\blocks.py:758\u001b[0m, in \u001b[0;36mBlock.astype\u001b[1;34m(self, dtype, copy, errors, using_cow, squeeze)\u001b[0m\n\u001b[0;32m    755\u001b[0m         \u001b[38;5;28;01mraise\u001b[39;00m \u001b[38;5;167;01mValueError\u001b[39;00m(\u001b[38;5;124m\"\u001b[39m\u001b[38;5;124mCan not squeeze with more than one column.\u001b[39m\u001b[38;5;124m\"\u001b[39m)\n\u001b[0;32m    756\u001b[0m     values \u001b[38;5;241m=\u001b[39m values[\u001b[38;5;241m0\u001b[39m, :]  \u001b[38;5;66;03m# type: ignore[call-overload]\u001b[39;00m\n\u001b[1;32m--> 758\u001b[0m new_values \u001b[38;5;241m=\u001b[39m astype_array_safe(values, dtype, copy\u001b[38;5;241m=\u001b[39mcopy, errors\u001b[38;5;241m=\u001b[39merrors)\n\u001b[0;32m    760\u001b[0m new_values \u001b[38;5;241m=\u001b[39m maybe_coerce_values(new_values)\n\u001b[0;32m    762\u001b[0m refs \u001b[38;5;241m=\u001b[39m \u001b[38;5;28;01mNone\u001b[39;00m\n",
      "File \u001b[1;32mG:\\anaconda\\Lib\\site-packages\\pandas\\core\\dtypes\\astype.py:237\u001b[0m, in \u001b[0;36mastype_array_safe\u001b[1;34m(values, dtype, copy, errors)\u001b[0m\n\u001b[0;32m    234\u001b[0m     dtype \u001b[38;5;241m=\u001b[39m dtype\u001b[38;5;241m.\u001b[39mnumpy_dtype\n\u001b[0;32m    236\u001b[0m \u001b[38;5;28;01mtry\u001b[39;00m:\n\u001b[1;32m--> 237\u001b[0m     new_values \u001b[38;5;241m=\u001b[39m astype_array(values, dtype, copy\u001b[38;5;241m=\u001b[39mcopy)\n\u001b[0;32m    238\u001b[0m \u001b[38;5;28;01mexcept\u001b[39;00m (\u001b[38;5;167;01mValueError\u001b[39;00m, \u001b[38;5;167;01mTypeError\u001b[39;00m):\n\u001b[0;32m    239\u001b[0m     \u001b[38;5;66;03m# e.g. _astype_nansafe can fail on object-dtype of strings\u001b[39;00m\n\u001b[0;32m    240\u001b[0m     \u001b[38;5;66;03m#  trying to convert to float\u001b[39;00m\n\u001b[0;32m    241\u001b[0m     \u001b[38;5;28;01mif\u001b[39;00m errors \u001b[38;5;241m==\u001b[39m \u001b[38;5;124m\"\u001b[39m\u001b[38;5;124mignore\u001b[39m\u001b[38;5;124m\"\u001b[39m:\n",
      "File \u001b[1;32mG:\\anaconda\\Lib\\site-packages\\pandas\\core\\dtypes\\astype.py:182\u001b[0m, in \u001b[0;36mastype_array\u001b[1;34m(values, dtype, copy)\u001b[0m\n\u001b[0;32m    179\u001b[0m     values \u001b[38;5;241m=\u001b[39m values\u001b[38;5;241m.\u001b[39mastype(dtype, copy\u001b[38;5;241m=\u001b[39mcopy)\n\u001b[0;32m    181\u001b[0m \u001b[38;5;28;01melse\u001b[39;00m:\n\u001b[1;32m--> 182\u001b[0m     values \u001b[38;5;241m=\u001b[39m _astype_nansafe(values, dtype, copy\u001b[38;5;241m=\u001b[39mcopy)\n\u001b[0;32m    184\u001b[0m \u001b[38;5;66;03m# in pandas we don't store numpy str dtypes, so convert to object\u001b[39;00m\n\u001b[0;32m    185\u001b[0m \u001b[38;5;28;01mif\u001b[39;00m \u001b[38;5;28misinstance\u001b[39m(dtype, np\u001b[38;5;241m.\u001b[39mdtype) \u001b[38;5;129;01mand\u001b[39;00m \u001b[38;5;28missubclass\u001b[39m(values\u001b[38;5;241m.\u001b[39mdtype\u001b[38;5;241m.\u001b[39mtype, \u001b[38;5;28mstr\u001b[39m):\n",
      "File \u001b[1;32mG:\\anaconda\\Lib\\site-packages\\pandas\\core\\dtypes\\astype.py:133\u001b[0m, in \u001b[0;36m_astype_nansafe\u001b[1;34m(arr, dtype, copy, skipna)\u001b[0m\n\u001b[0;32m    129\u001b[0m     \u001b[38;5;28;01mraise\u001b[39;00m \u001b[38;5;167;01mValueError\u001b[39;00m(msg)\n\u001b[0;32m    131\u001b[0m \u001b[38;5;28;01mif\u001b[39;00m copy \u001b[38;5;129;01mor\u001b[39;00m arr\u001b[38;5;241m.\u001b[39mdtype \u001b[38;5;241m==\u001b[39m \u001b[38;5;28mobject\u001b[39m \u001b[38;5;129;01mor\u001b[39;00m dtype \u001b[38;5;241m==\u001b[39m \u001b[38;5;28mobject\u001b[39m:\n\u001b[0;32m    132\u001b[0m     \u001b[38;5;66;03m# Explicit copy, or required since NumPy can't view from / to object.\u001b[39;00m\n\u001b[1;32m--> 133\u001b[0m     \u001b[38;5;28;01mreturn\u001b[39;00m arr\u001b[38;5;241m.\u001b[39mastype(dtype, copy\u001b[38;5;241m=\u001b[39m\u001b[38;5;28;01mTrue\u001b[39;00m)\n\u001b[0;32m    135\u001b[0m \u001b[38;5;28;01mreturn\u001b[39;00m arr\u001b[38;5;241m.\u001b[39mastype(dtype, copy\u001b[38;5;241m=\u001b[39mcopy)\n",
      "\u001b[1;31mValueError\u001b[0m: could not convert string to float: '|'"
     ]
    }
   ],
   "source": [
    "df['rating'] = df['rating'].astype('float64')"
   ]
  },
  {
   "cell_type": "markdown",
   "id": "e1993667-09a0-4645-bb2c-9dfcc67d838e",
   "metadata": {},
   "source": [
    "# This say rating row have '|' instead of number , lets check it out"
   ]
  },
  {
   "cell_type": "code",
   "execution_count": 31,
   "id": "73672209-625f-4ba5-9653-5a877ccc5a5f",
   "metadata": {},
   "outputs": [
    {
     "data": {
      "text/plain": [
       "rating\n",
       "4.1    244\n",
       "4.3    230\n",
       "4.2    228\n",
       "4.0    129\n",
       "3.9    123\n",
       "4.4    123\n",
       "3.8     86\n",
       "4.5     75\n",
       "4       52\n",
       "3.7     42\n",
       "3.6     35\n",
       "3.5     26\n",
       "4.6     17\n",
       "3.3     16\n",
       "3.4     10\n",
       "4.7      6\n",
       "3.1      4\n",
       "5.0      3\n",
       "3.0      3\n",
       "4.8      3\n",
       "3.2      2\n",
       "2.8      2\n",
       "2.3      1\n",
       "|        1\n",
       "2        1\n",
       "3        1\n",
       "2.6      1\n",
       "2.9      1\n",
       "Name: count, dtype: int64"
      ]
     },
     "execution_count": 31,
     "metadata": {},
     "output_type": "execute_result"
    }
   ],
   "source": [
    "df['rating'].value_counts()"
   ]
  },
  {
   "cell_type": "code",
   "execution_count": 33,
   "id": "67325122-1c21-4967-99c2-8ec7167252d1",
   "metadata": {},
   "outputs": [
    {
     "data": {
      "text/html": [
       "<div>\n",
       "<style scoped>\n",
       "    .dataframe tbody tr th:only-of-type {\n",
       "        vertical-align: middle;\n",
       "    }\n",
       "\n",
       "    .dataframe tbody tr th {\n",
       "        vertical-align: top;\n",
       "    }\n",
       "\n",
       "    .dataframe thead th {\n",
       "        text-align: right;\n",
       "    }\n",
       "</style>\n",
       "<table border=\"1\" class=\"dataframe\">\n",
       "  <thead>\n",
       "    <tr style=\"text-align: right;\">\n",
       "      <th></th>\n",
       "      <th>product_id</th>\n",
       "      <th>product_name</th>\n",
       "      <th>category</th>\n",
       "      <th>discounted_price</th>\n",
       "      <th>actual_price</th>\n",
       "      <th>discount_percentage</th>\n",
       "      <th>rating</th>\n",
       "      <th>rating_count</th>\n",
       "      <th>about_product</th>\n",
       "      <th>user_id</th>\n",
       "      <th>user_name</th>\n",
       "      <th>review_id</th>\n",
       "      <th>review_title</th>\n",
       "      <th>review_content</th>\n",
       "      <th>img_link</th>\n",
       "      <th>product_link</th>\n",
       "    </tr>\n",
       "  </thead>\n",
       "  <tbody>\n",
       "    <tr>\n",
       "      <th>1279</th>\n",
       "      <td>B08L12N5H1</td>\n",
       "      <td>Eureka Forbes car Vac 100 Watts Powerful Sucti...</td>\n",
       "      <td>Home&amp;Kitchen|Kitchen&amp;HomeAppliances|Vacuum,Cle...</td>\n",
       "      <td>2099.0</td>\n",
       "      <td>2499.0</td>\n",
       "      <td>0.16</td>\n",
       "      <td>|</td>\n",
       "      <td>992</td>\n",
       "      <td>No Installation is provided for this product|1...</td>\n",
       "      <td>AGTDSNT2FKVYEPDPXAA673AIS44A,AER2XFSWNN4LAUCJ5...</td>\n",
       "      <td>Divya,Dr Nefario,Deekshith,Preeti,Prasanth R,P...</td>\n",
       "      <td>R2KKTKM4M9RDVJ,R1O692MZOBTE79,R2WRSEWL56SOS4,R...</td>\n",
       "      <td>Decent product,doesn't pick up sand,Ok ok,Must...</td>\n",
       "      <td>Does the job well,doesn't work on sand. though...</td>\n",
       "      <td>https://m.media-amazon.com/images/W/WEBP_40237...</td>\n",
       "      <td>https://www.amazon.in/Eureka-Forbes-Vacuum-Cle...</td>\n",
       "    </tr>\n",
       "  </tbody>\n",
       "</table>\n",
       "</div>"
      ],
      "text/plain": [
       "      product_id                                       product_name  \\\n",
       "1279  B08L12N5H1  Eureka Forbes car Vac 100 Watts Powerful Sucti...   \n",
       "\n",
       "                                               category  discounted_price  \\\n",
       "1279  Home&Kitchen|Kitchen&HomeAppliances|Vacuum,Cle...            2099.0   \n",
       "\n",
       "      actual_price  discount_percentage rating rating_count  \\\n",
       "1279        2499.0                 0.16      |          992   \n",
       "\n",
       "                                          about_product  \\\n",
       "1279  No Installation is provided for this product|1...   \n",
       "\n",
       "                                                user_id  \\\n",
       "1279  AGTDSNT2FKVYEPDPXAA673AIS44A,AER2XFSWNN4LAUCJ5...   \n",
       "\n",
       "                                              user_name  \\\n",
       "1279  Divya,Dr Nefario,Deekshith,Preeti,Prasanth R,P...   \n",
       "\n",
       "                                              review_id  \\\n",
       "1279  R2KKTKM4M9RDVJ,R1O692MZOBTE79,R2WRSEWL56SOS4,R...   \n",
       "\n",
       "                                           review_title  \\\n",
       "1279  Decent product,doesn't pick up sand,Ok ok,Must...   \n",
       "\n",
       "                                         review_content  \\\n",
       "1279  Does the job well,doesn't work on sand. though...   \n",
       "\n",
       "                                               img_link  \\\n",
       "1279  https://m.media-amazon.com/images/W/WEBP_40237...   \n",
       "\n",
       "                                           product_link  \n",
       "1279  https://www.amazon.in/Eureka-Forbes-Vacuum-Cle...  "
      ]
     },
     "execution_count": 33,
     "metadata": {},
     "output_type": "execute_result"
    }
   ],
   "source": [
    "# row 1279 only row with '|' rating , now we need to replace it with mean() rating\n",
    "df[df['rating']== '|']"
   ]
  },
  {
   "cell_type": "code",
   "execution_count": 35,
   "id": "72168fd3-4c28-4d01-be21-156c898c2b0c",
   "metadata": {},
   "outputs": [],
   "source": [
    "# replacing '|' with NaN\n",
    "df['rating'] =df['rating'].replace('|',np.NaN)\n",
    "\n",
    "#changing data type to float\n",
    "df['rating'] =df['rating'].astype('float64')"
   ]
  },
  {
   "cell_type": "code",
   "execution_count": 37,
   "id": "838403b1-5ff1-4b8e-99ab-c2a82a3ad4c7",
   "metadata": {},
   "outputs": [
    {
     "data": {
      "text/plain": [
       "product_id                                                    B08L12N5H1\n",
       "product_name           Eureka Forbes car Vac 100 Watts Powerful Sucti...\n",
       "category               Home&Kitchen|Kitchen&HomeAppliances|Vacuum,Cle...\n",
       "discounted_price                                                  2099.0\n",
       "actual_price                                                      2499.0\n",
       "discount_percentage                                                 0.16\n",
       "rating                                                               NaN\n",
       "rating_count                                                         992\n",
       "about_product          No Installation is provided for this product|1...\n",
       "user_id                AGTDSNT2FKVYEPDPXAA673AIS44A,AER2XFSWNN4LAUCJ5...\n",
       "user_name              Divya,Dr Nefario,Deekshith,Preeti,Prasanth R,P...\n",
       "review_id              R2KKTKM4M9RDVJ,R1O692MZOBTE79,R2WRSEWL56SOS4,R...\n",
       "review_title           Decent product,doesn't pick up sand,Ok ok,Must...\n",
       "review_content         Does the job well,doesn't work on sand. though...\n",
       "img_link               https://m.media-amazon.com/images/W/WEBP_40237...\n",
       "product_link           https://www.amazon.in/Eureka-Forbes-Vacuum-Cle...\n",
       "Name: 1279, dtype: object"
      ]
     },
     "execution_count": 37,
     "metadata": {},
     "output_type": "execute_result"
    }
   ],
   "source": [
    "df.loc[1279]"
   ]
  },
  {
   "cell_type": "code",
   "execution_count": 39,
   "id": "62c3d039-5515-4a6e-9db6-8f63040a482b",
   "metadata": {},
   "outputs": [],
   "source": [
    "# now we convert that empty rating with mean() rating\n",
    "avg_rating = round(df['rating'].mean(),2)\n",
    "avg_rating\n",
    "\n",
    "df['rating'] = df['rating'].fillna(avg_rating)"
   ]
  },
  {
   "cell_type": "markdown",
   "id": "b0b28166-c3e6-4030-b399-62c43d2b5723",
   "metadata": {},
   "source": [
    " # Changing 'rating_count' Column Data Type"
   ]
  },
  {
   "cell_type": "code",
   "execution_count": 41,
   "id": "ee448983-c152-41c4-ac9c-04eb8b3fa494",
   "metadata": {},
   "outputs": [],
   "source": [
    "df['rating_count'] = df['rating_count'].str.replace(',','').astype('float64')"
   ]
  },
  {
   "cell_type": "code",
   "execution_count": 43,
   "id": "a3aadb47-37e1-4968-aac5-db4b76edb314",
   "metadata": {},
   "outputs": [
    {
     "name": "stdout",
     "output_type": "stream",
     "text": [
      "<class 'pandas.core.frame.DataFrame'>\n",
      "RangeIndex: 1465 entries, 0 to 1464\n",
      "Data columns (total 16 columns):\n",
      " #   Column               Non-Null Count  Dtype  \n",
      "---  ------               --------------  -----  \n",
      " 0   product_id           1465 non-null   object \n",
      " 1   product_name         1465 non-null   object \n",
      " 2   category             1465 non-null   object \n",
      " 3   discounted_price     1465 non-null   float64\n",
      " 4   actual_price         1465 non-null   float64\n",
      " 5   discount_percentage  1465 non-null   float64\n",
      " 6   rating               1465 non-null   float64\n",
      " 7   rating_count         1463 non-null   float64\n",
      " 8   about_product        1465 non-null   object \n",
      " 9   user_id              1465 non-null   object \n",
      " 10  user_name            1465 non-null   object \n",
      " 11  review_id            1465 non-null   object \n",
      " 12  review_title         1465 non-null   object \n",
      " 13  review_content       1465 non-null   object \n",
      " 14  img_link             1465 non-null   object \n",
      " 15  product_link         1465 non-null   object \n",
      "dtypes: float64(5), object(11)\n",
      "memory usage: 183.3+ KB\n"
     ]
    }
   ],
   "source": [
    "df.info()"
   ]
  },
  {
   "cell_type": "markdown",
   "id": "82da8297-8399-4626-9d4b-a88af381f5ed",
   "metadata": {},
   "source": [
    "# DESCRIPTIVE STATISTICS\n",
    "### ***Descriptive statistics are a collection of quantitative measures that summarize and describe the main characteristics of a dataset.***"
   ]
  },
  {
   "cell_type": "code",
   "execution_count": 45,
   "id": "eda6f1ef-7d9d-41ee-b7a3-2b8a0fd9ff9c",
   "metadata": {},
   "outputs": [
    {
     "data": {
      "text/html": [
       "<div>\n",
       "<style scoped>\n",
       "    .dataframe tbody tr th:only-of-type {\n",
       "        vertical-align: middle;\n",
       "    }\n",
       "\n",
       "    .dataframe tbody tr th {\n",
       "        vertical-align: top;\n",
       "    }\n",
       "\n",
       "    .dataframe thead th {\n",
       "        text-align: right;\n",
       "    }\n",
       "</style>\n",
       "<table border=\"1\" class=\"dataframe\">\n",
       "  <thead>\n",
       "    <tr style=\"text-align: right;\">\n",
       "      <th></th>\n",
       "      <th>discounted_price</th>\n",
       "      <th>actual_price</th>\n",
       "      <th>discount_percentage</th>\n",
       "      <th>rating</th>\n",
       "      <th>rating_count</th>\n",
       "    </tr>\n",
       "  </thead>\n",
       "  <tbody>\n",
       "    <tr>\n",
       "      <th>count</th>\n",
       "      <td>1465.000000</td>\n",
       "      <td>1465.000000</td>\n",
       "      <td>1465.000000</td>\n",
       "      <td>1465.000000</td>\n",
       "      <td>1463.000000</td>\n",
       "    </tr>\n",
       "    <tr>\n",
       "      <th>mean</th>\n",
       "      <td>3125.310874</td>\n",
       "      <td>5444.990635</td>\n",
       "      <td>0.476915</td>\n",
       "      <td>4.096587</td>\n",
       "      <td>18295.541353</td>\n",
       "    </tr>\n",
       "    <tr>\n",
       "      <th>std</th>\n",
       "      <td>6944.304394</td>\n",
       "      <td>10874.826864</td>\n",
       "      <td>0.216359</td>\n",
       "      <td>0.291574</td>\n",
       "      <td>42753.864952</td>\n",
       "    </tr>\n",
       "    <tr>\n",
       "      <th>min</th>\n",
       "      <td>39.000000</td>\n",
       "      <td>39.000000</td>\n",
       "      <td>0.000000</td>\n",
       "      <td>2.000000</td>\n",
       "      <td>2.000000</td>\n",
       "    </tr>\n",
       "    <tr>\n",
       "      <th>25%</th>\n",
       "      <td>325.000000</td>\n",
       "      <td>800.000000</td>\n",
       "      <td>0.320000</td>\n",
       "      <td>4.000000</td>\n",
       "      <td>1186.000000</td>\n",
       "    </tr>\n",
       "    <tr>\n",
       "      <th>50%</th>\n",
       "      <td>799.000000</td>\n",
       "      <td>1650.000000</td>\n",
       "      <td>0.500000</td>\n",
       "      <td>4.100000</td>\n",
       "      <td>5179.000000</td>\n",
       "    </tr>\n",
       "    <tr>\n",
       "      <th>75%</th>\n",
       "      <td>1999.000000</td>\n",
       "      <td>4295.000000</td>\n",
       "      <td>0.630000</td>\n",
       "      <td>4.300000</td>\n",
       "      <td>17336.500000</td>\n",
       "    </tr>\n",
       "    <tr>\n",
       "      <th>max</th>\n",
       "      <td>77990.000000</td>\n",
       "      <td>139900.000000</td>\n",
       "      <td>0.940000</td>\n",
       "      <td>5.000000</td>\n",
       "      <td>426973.000000</td>\n",
       "    </tr>\n",
       "  </tbody>\n",
       "</table>\n",
       "</div>"
      ],
      "text/plain": [
       "       discounted_price   actual_price  discount_percentage       rating  \\\n",
       "count       1465.000000    1465.000000          1465.000000  1465.000000   \n",
       "mean        3125.310874    5444.990635             0.476915     4.096587   \n",
       "std         6944.304394   10874.826864             0.216359     0.291574   \n",
       "min           39.000000      39.000000             0.000000     2.000000   \n",
       "25%          325.000000     800.000000             0.320000     4.000000   \n",
       "50%          799.000000    1650.000000             0.500000     4.100000   \n",
       "75%         1999.000000    4295.000000             0.630000     4.300000   \n",
       "max        77990.000000  139900.000000             0.940000     5.000000   \n",
       "\n",
       "        rating_count  \n",
       "count    1463.000000  \n",
       "mean    18295.541353  \n",
       "std     42753.864952  \n",
       "min         2.000000  \n",
       "25%      1186.000000  \n",
       "50%      5179.000000  \n",
       "75%     17336.500000  \n",
       "max    426973.000000  "
      ]
     },
     "execution_count": 45,
     "metadata": {},
     "output_type": "execute_result"
    }
   ],
   "source": [
    "df.describe()"
   ]
  },
  {
   "cell_type": "markdown",
   "id": "6d673d3e-7748-4a46-ad23-123c40245fee",
   "metadata": {},
   "source": [
    "# Observation 2 \n",
    "\n",
    "### ***All columns data type was object So, I converted numerical column data type to float.***\n",
    "### ***Now we have 5 numerical column that are 'discounted_price','actual_price','discount_percentage','rating','rating_count'***"
   ]
  },
  {
   "cell_type": "markdown",
   "id": "aaf107b6-edab-4a79-b4b1-74599766a300",
   "metadata": {},
   "source": [
    "# Dealing with the missing values"
   ]
  },
  {
   "cell_type": "markdown",
   "id": "3987e592-693e-4263-b4d2-5e33a3451821",
   "metadata": {},
   "source": [
    "### ***Dealing with the missing values is one of the most important part of the data wrangling process, we must deal with the missing values in order to get the correct insights from the data.***"
   ]
  },
  {
   "cell_type": "code",
   "execution_count": 47,
   "id": "cdeb91e4-cdeb-4a36-afa2-0280849d1e65",
   "metadata": {},
   "outputs": [
    {
     "data": {
      "text/plain": [
       "rating_count           2\n",
       "product_id             0\n",
       "product_name           0\n",
       "category               0\n",
       "discounted_price       0\n",
       "actual_price           0\n",
       "discount_percentage    0\n",
       "rating                 0\n",
       "about_product          0\n",
       "user_id                0\n",
       "user_name              0\n",
       "review_id              0\n",
       "review_title           0\n",
       "review_content         0\n",
       "img_link               0\n",
       "product_link           0\n",
       "dtype: int64"
      ]
     },
     "execution_count": 47,
     "metadata": {},
     "output_type": "execute_result"
    }
   ],
   "source": [
    "df.isnull().sum().sort_values(ascending = False)"
   ]
  },
  {
   "cell_type": "code",
   "execution_count": 49,
   "id": "2000aa18-7122-4e89-b159-05bd18f61606",
   "metadata": {},
   "outputs": [
    {
     "data": {
      "text/plain": [
       "rating_count           0.14\n",
       "product_id             0.00\n",
       "product_name           0.00\n",
       "category               0.00\n",
       "discounted_price       0.00\n",
       "actual_price           0.00\n",
       "discount_percentage    0.00\n",
       "rating                 0.00\n",
       "about_product          0.00\n",
       "user_id                0.00\n",
       "user_name              0.00\n",
       "review_id              0.00\n",
       "review_title           0.00\n",
       "review_content         0.00\n",
       "img_link               0.00\n",
       "product_link           0.00\n",
       "dtype: float64"
      ]
     },
     "execution_count": 49,
     "metadata": {},
     "output_type": "execute_result"
    }
   ],
   "source": [
    "# finding missing value percentage\n",
    "round(df.isnull().sum()/len(df)*100,2).sort_values(ascending= False)"
   ]
  },
  {
   "cell_type": "code",
   "execution_count": 51,
   "id": "f71b3e3e-fef7-4f62-bac7-60affcfa602f",
   "metadata": {},
   "outputs": [
    {
     "data": {
      "text/plain": [
       "2"
      ]
     },
     "execution_count": 51,
     "metadata": {},
     "output_type": "execute_result"
    }
   ],
   "source": [
    "# total number of missing value \n",
    "df.isnull().sum().sum()"
   ]
  },
  {
   "cell_type": "markdown",
   "id": "dfc9f4f6-6a21-4c23-97a9-a495b0ee2995",
   "metadata": {},
   "source": [
    "# Lets visualize null values "
   ]
  },
  {
   "cell_type": "code",
   "execution_count": 53,
   "id": "6ec77f5f-e435-49ab-aaa7-24bc993b1fdf",
   "metadata": {},
   "outputs": [
    {
     "data": {
      "image/png": "[encoded data removed]",
      "text/plain": [
       "<Figure size 2200x1000 with 1 Axes>"
      ]
     },
     "metadata": {},
     "output_type": "display_data"
    }
   ],
   "source": [
    "# make a figure size\n",
    "plt.figure(figsize=(22, 10))\n",
    "# plot the null values in each column\n",
    "sns.heatmap(df.isnull(), yticklabels=False, cbar=False, cmap='viridis')\n",
    "plt.title(\" Figure-1: Heatmap of Missing Values\")\n",
    "plt.show()"
   ]
  },
  {
   "cell_type": "code",
   "execution_count": 55,
   "id": "0d0241ba-0b12-4485-a7c5-4ee8d0894707",
   "metadata": {},
   "outputs": [
    {
     "data": {
      "image/png": "[encoded data removed]",
      "text/plain": [
       "<Figure size 2200x1000 with 1 Axes>"
      ]
     },
     "metadata": {},
     "output_type": "display_data"
    }
   ],
   "source": [
    "# make figure size\n",
    "plt.figure(figsize=(22, 10))\n",
    "# plot the null values by their percentage in each column\n",
    "missing_percentage = df.isnull().sum()/len(df)*100\n",
    "missing_percentage.plot(kind='bar')\n",
    "# add the labels\n",
    "plt.xlabel('Columns')\n",
    "plt.ylabel('Percentage')\n",
    "plt.title('Percentage of Missing Values in each Column')\n",
    "plt.show()"
   ]
  },
  {
   "cell_type": "markdown",
   "id": "28f1875f-91e1-4e01-be83-8313cdfa270e",
   "metadata": {},
   "source": [
    "# We are only viewing the rows where there are null values in the column"
   ]
  },
  {
   "cell_type": "code",
   "execution_count": 57,
   "id": "5a913853-8ea2-4bbc-a0a4-3e3b56d4eda5",
   "metadata": {},
   "outputs": [
    {
     "data": {
      "text/html": [
       "<div>\n",
       "<style scoped>\n",
       "    .dataframe tbody tr th:only-of-type {\n",
       "        vertical-align: middle;\n",
       "    }\n",
       "\n",
       "    .dataframe tbody tr th {\n",
       "        vertical-align: top;\n",
       "    }\n",
       "\n",
       "    .dataframe thead th {\n",
       "        text-align: right;\n",
       "    }\n",
       "</style>\n",
       "<table border=\"1\" class=\"dataframe\">\n",
       "  <thead>\n",
       "    <tr style=\"text-align: right;\">\n",
       "      <th></th>\n",
       "      <th>product_id</th>\n",
       "      <th>product_name</th>\n",
       "      <th>category</th>\n",
       "      <th>discounted_price</th>\n",
       "      <th>actual_price</th>\n",
       "      <th>discount_percentage</th>\n",
       "      <th>rating</th>\n",
       "      <th>rating_count</th>\n",
       "      <th>about_product</th>\n",
       "      <th>user_id</th>\n",
       "      <th>user_name</th>\n",
       "      <th>review_id</th>\n",
       "      <th>review_title</th>\n",
       "      <th>review_content</th>\n",
       "      <th>img_link</th>\n",
       "      <th>product_link</th>\n",
       "    </tr>\n",
       "  </thead>\n",
       "  <tbody>\n",
       "    <tr>\n",
       "      <th>282</th>\n",
       "      <td>B0B94JPY2N</td>\n",
       "      <td>Amazon Brand - Solimo 65W Fast Charging Braide...</td>\n",
       "      <td>Computers&amp;Accessories|Accessories&amp;Peripherals|...</td>\n",
       "      <td>199.0</td>\n",
       "      <td>999.0</td>\n",
       "      <td>0.80</td>\n",
       "      <td>3.0</td>\n",
       "      <td>NaN</td>\n",
       "      <td>USB C to C Cable: This cable has type C connec...</td>\n",
       "      <td>AE7CFHY23VAJT2FI4NZKKP6GS2UQ</td>\n",
       "      <td>Pranav</td>\n",
       "      <td>RUB7U91HVZ30</td>\n",
       "      <td>The cable works but is not 65W as advertised</td>\n",
       "      <td>I have a pd supported car charger and I bought...</td>\n",
       "      <td>https://m.media-amazon.com/images/W/WEBP_40237...</td>\n",
       "      <td>https://www.amazon.in/Amazon-Brand-Charging-Su...</td>\n",
       "    </tr>\n",
       "    <tr>\n",
       "      <th>324</th>\n",
       "      <td>B0BQRJ3C47</td>\n",
       "      <td>REDTECH USB-C to Lightning Cable 3.3FT, [Apple...</td>\n",
       "      <td>Computers&amp;Accessories|Accessories&amp;Peripherals|...</td>\n",
       "      <td>249.0</td>\n",
       "      <td>999.0</td>\n",
       "      <td>0.75</td>\n",
       "      <td>5.0</td>\n",
       "      <td>NaN</td>\n",
       "      <td>💎[The Fastest Charge] - This iPhone USB C cabl...</td>\n",
       "      <td>AGJC5O5H5BBXWUV7WRIEIOOR3TVQ</td>\n",
       "      <td>Abdul Gafur</td>\n",
       "      <td>RQXD5SAMMPC6L</td>\n",
       "      <td>Awesome Product</td>\n",
       "      <td>Quick delivery.Awesome ProductPacking was good...</td>\n",
       "      <td>https://m.media-amazon.com/images/I/31-q0xhaTA...</td>\n",
       "      <td>https://www.amazon.in/REDTECH-Lightning-Certif...</td>\n",
       "    </tr>\n",
       "  </tbody>\n",
       "</table>\n",
       "</div>"
      ],
      "text/plain": [
       "     product_id                                       product_name  \\\n",
       "282  B0B94JPY2N  Amazon Brand - Solimo 65W Fast Charging Braide...   \n",
       "324  B0BQRJ3C47  REDTECH USB-C to Lightning Cable 3.3FT, [Apple...   \n",
       "\n",
       "                                              category  discounted_price  \\\n",
       "282  Computers&Accessories|Accessories&Peripherals|...             199.0   \n",
       "324  Computers&Accessories|Accessories&Peripherals|...             249.0   \n",
       "\n",
       "     actual_price  discount_percentage  rating  rating_count  \\\n",
       "282         999.0                 0.80     3.0           NaN   \n",
       "324         999.0                 0.75     5.0           NaN   \n",
       "\n",
       "                                         about_product  \\\n",
       "282  USB C to C Cable: This cable has type C connec...   \n",
       "324  💎[The Fastest Charge] - This iPhone USB C cabl...   \n",
       "\n",
       "                          user_id    user_name      review_id  \\\n",
       "282  AE7CFHY23VAJT2FI4NZKKP6GS2UQ       Pranav   RUB7U91HVZ30   \n",
       "324  AGJC5O5H5BBXWUV7WRIEIOOR3TVQ  Abdul Gafur  RQXD5SAMMPC6L   \n",
       "\n",
       "                                     review_title  \\\n",
       "282  The cable works but is not 65W as advertised   \n",
       "324                               Awesome Product   \n",
       "\n",
       "                                        review_content  \\\n",
       "282  I have a pd supported car charger and I bought...   \n",
       "324  Quick delivery.Awesome ProductPacking was good...   \n",
       "\n",
       "                                              img_link  \\\n",
       "282  https://m.media-amazon.com/images/W/WEBP_40237...   \n",
       "324  https://m.media-amazon.com/images/I/31-q0xhaTA...   \n",
       "\n",
       "                                          product_link  \n",
       "282  https://www.amazon.in/Amazon-Brand-Charging-Su...  \n",
       "324  https://www.amazon.in/REDTECH-Lightning-Certif...  "
      ]
     },
     "execution_count": 57,
     "metadata": {},
     "output_type": "execute_result"
    }
   ],
   "source": [
    "df[df['rating_count'].isnull()].head(5)"
   ]
  },
  {
   "cell_type": "markdown",
   "id": "0630c8b0-5b6f-44e1-b53d-c31408c3d919",
   "metadata": {},
   "source": [
    "# Fill missing value with median()"
   ]
  },
  {
   "cell_type": "code",
   "execution_count": 59,
   "id": "688e8455-d556-4292-8874-d9a35195f59a",
   "metadata": {},
   "outputs": [],
   "source": [
    "#  generating median of rating_count column \n",
    "mid_value = df['rating_count'].median()\n",
    "mid_value\n",
    "\n",
    "\n",
    "# fill this in null value\n",
    "df['rating_count'] = df['rating_count'].fillna(mid_value)"
   ]
  },
  {
   "cell_type": "code",
   "execution_count": 61,
   "id": "4a3c2332-c84a-4361-88c8-584080868af1",
   "metadata": {},
   "outputs": [
    {
     "data": {
      "text/html": [
       "<div>\n",
       "<style scoped>\n",
       "    .dataframe tbody tr th:only-of-type {\n",
       "        vertical-align: middle;\n",
       "    }\n",
       "\n",
       "    .dataframe tbody tr th {\n",
       "        vertical-align: top;\n",
       "    }\n",
       "\n",
       "    .dataframe thead th {\n",
       "        text-align: right;\n",
       "    }\n",
       "</style>\n",
       "<table border=\"1\" class=\"dataframe\">\n",
       "  <thead>\n",
       "    <tr style=\"text-align: right;\">\n",
       "      <th></th>\n",
       "      <th>product_id</th>\n",
       "      <th>product_name</th>\n",
       "      <th>category</th>\n",
       "      <th>discounted_price</th>\n",
       "      <th>actual_price</th>\n",
       "      <th>discount_percentage</th>\n",
       "      <th>rating</th>\n",
       "      <th>rating_count</th>\n",
       "      <th>about_product</th>\n",
       "      <th>user_id</th>\n",
       "      <th>user_name</th>\n",
       "      <th>review_id</th>\n",
       "      <th>review_title</th>\n",
       "      <th>review_content</th>\n",
       "      <th>img_link</th>\n",
       "      <th>product_link</th>\n",
       "    </tr>\n",
       "  </thead>\n",
       "  <tbody>\n",
       "  </tbody>\n",
       "</table>\n",
       "</div>"
      ],
      "text/plain": [
       "Empty DataFrame\n",
       "Columns: [product_id, product_name, category, discounted_price, actual_price, discount_percentage, rating, rating_count, about_product, user_id, user_name, review_id, review_title, review_content, img_link, product_link]\n",
       "Index: []"
      ]
     },
     "execution_count": 61,
     "metadata": {},
     "output_type": "execute_result"
    }
   ],
   "source": [
    "# null row in there now \n",
    "df[df['rating_count'].isnull()]"
   ]
  },
  {
   "cell_type": "code",
   "execution_count": 63,
   "id": "83f07dcc-fe7b-4cd9-a002-b3e21bb37101",
   "metadata": {},
   "outputs": [
    {
     "data": {
      "text/plain": [
       "product_id             0\n",
       "product_name           0\n",
       "category               0\n",
       "discounted_price       0\n",
       "actual_price           0\n",
       "discount_percentage    0\n",
       "rating                 0\n",
       "rating_count           0\n",
       "about_product          0\n",
       "user_id                0\n",
       "user_name              0\n",
       "review_id              0\n",
       "review_title           0\n",
       "review_content         0\n",
       "img_link               0\n",
       "product_link           0\n",
       "dtype: int64"
      ]
     },
     "execution_count": 63,
     "metadata": {},
     "output_type": "execute_result"
    }
   ],
   "source": [
    "# null col in there now \n",
    "df.isnull().sum()"
   ]
  },
  {
   "cell_type": "markdown",
   "id": "8f7f6eea-5f98-47b0-b3a5-f59c1bae8b70",
   "metadata": {},
   "source": [
    "# Now the datset is cleaned from null values "
   ]
  },
  {
   "cell_type": "markdown",
   "id": "68c1b6d8-7853-4ee6-be07-caa9581b7785",
   "metadata": {},
   "source": [
    "# Find Duplications and Analyse them\n",
    "### ***Removing duplicates is one of the most important part of the data wrangling process, we must remove the duplicates in order to get the correct insights from the data.***"
   ]
  },
  {
   "cell_type": "code",
   "execution_count": 65,
   "id": "b7bae243-020f-481b-a591-0cb6622c471c",
   "metadata": {},
   "outputs": [
    {
     "data": {
      "text/plain": [
       "False"
      ]
     },
     "execution_count": 65,
     "metadata": {},
     "output_type": "execute_result"
    }
   ],
   "source": [
    "df.duplicated().any()"
   ]
  },
  {
   "cell_type": "code",
   "execution_count": 67,
   "id": "3e0a9d73-cc21-4ab9-93d3-8d80e7a3bfe2",
   "metadata": {},
   "outputs": [
    {
     "data": {
      "text/plain": [
       "Index(['product_id', 'product_name', 'category', 'discounted_price',\n",
       "       'actual_price', 'discount_percentage', 'rating', 'rating_count',\n",
       "       'about_product', 'user_id', 'user_name', 'review_id', 'review_title',\n",
       "       'review_content', 'img_link', 'product_link'],\n",
       "      dtype='object')"
      ]
     },
     "execution_count": 67,
     "metadata": {},
     "output_type": "execute_result"
    }
   ],
   "source": [
    "df.columns"
   ]
  },
  {
   "cell_type": "code",
   "execution_count": 69,
   "id": "eae9a23e-2bcb-44f2-8dde-99f4f850dd64",
   "metadata": {},
   "outputs": [
    {
     "data": {
      "text/plain": [
       "array([False, False, False, False, False, False, False, False, False,\n",
       "       False, False, False, False, False, False, False])"
      ]
     },
     "execution_count": 69,
     "metadata": {},
     "output_type": "execute_result"
    }
   ],
   "source": [
    "df.columns.duplicated()"
   ]
  },
  {
   "cell_type": "markdown",
   "id": "3b53d5ab-5dd5-4dd2-8460-c99d8b8708c6",
   "metadata": {},
   "source": [
    "# ***Hence no duplicates found***"
   ]
  },
  {
   "cell_type": "markdown",
   "id": "0da884d5-70a2-4a47-ae70-467a0ec07147",
   "metadata": {},
   "source": [
    "# Data Visualization"
   ]
  },
  {
   "cell_type": "code",
   "execution_count": 71,
   "id": "1d4f6ce2-e782-466c-a7eb-5ca8aab1f100",
   "metadata": {},
   "outputs": [
    {
     "data": {
      "image/png": "[encoded data removed]",
      "text/plain": [
       "<Figure size 640x480 with 1 Axes>"
      ]
     },
     "metadata": {},
     "output_type": "display_data"
    }
   ],
   "source": [
    "# plot actual_price vs rating\n",
    "\n",
    "plt.scatter(df['actual_price'],df['rating'])\n",
    "plt.xlabel('actual_price')\n",
    "plt.ylabel('rating')\n",
    "plt.title('actual_price vs rating')\n",
    "plt.show()"
   ]
  },
  {
   "cell_type": "code",
   "execution_count": 73,
   "id": "14f79f0b-fb19-4c34-8cca-5d5082e7a6b3",
   "metadata": {},
   "outputs": [
    {
     "data": {
      "text/html": [
       "<div>\n",
       "<style scoped>\n",
       "    .dataframe tbody tr th:only-of-type {\n",
       "        vertical-align: middle;\n",
       "    }\n",
       "\n",
       "    .dataframe tbody tr th {\n",
       "        vertical-align: top;\n",
       "    }\n",
       "\n",
       "    .dataframe thead th {\n",
       "        text-align: right;\n",
       "    }\n",
       "</style>\n",
       "<table border=\"1\" class=\"dataframe\">\n",
       "  <thead>\n",
       "    <tr style=\"text-align: right;\">\n",
       "      <th></th>\n",
       "      <th>product_id</th>\n",
       "      <th>product_name</th>\n",
       "      <th>category</th>\n",
       "      <th>discounted_price</th>\n",
       "      <th>actual_price</th>\n",
       "      <th>discount_percentage</th>\n",
       "      <th>rating</th>\n",
       "      <th>rating_count</th>\n",
       "      <th>about_product</th>\n",
       "      <th>user_id</th>\n",
       "      <th>user_name</th>\n",
       "      <th>review_id</th>\n",
       "      <th>review_title</th>\n",
       "      <th>review_content</th>\n",
       "      <th>img_link</th>\n",
       "      <th>product_link</th>\n",
       "    </tr>\n",
       "  </thead>\n",
       "  <tbody>\n",
       "    <tr>\n",
       "      <th>249</th>\n",
       "      <td>B09WN3SRC7</td>\n",
       "      <td>Sony Bravia 164 cm (65 inches) 4K Ultra HD Sma...</td>\n",
       "      <td>Electronics|HomeTheater,TV&amp;Video|Televisions|S...</td>\n",
       "      <td>77990.0</td>\n",
       "      <td>139900.0</td>\n",
       "      <td>0.44</td>\n",
       "      <td>4.7</td>\n",
       "      <td>5935.0</td>\n",
       "      <td>Resolution: 4K Ultra HD (3840 x 2160) | Refres...</td>\n",
       "      <td>AF6Z2OYIXRPZJHVYN2MFKKYHPHFQ,AH5SAORYVUN5MGIBL...</td>\n",
       "      <td>David P.,Dr. ATUL THAKUR,Shriniwas Patil,Tahir...</td>\n",
       "      <td>R16HCZ0W1TRSMM,R12J7UKQ0FX3O9,R8729SR7LQFUU,R1...</td>\n",
       "      <td>Product installation was excellent  but delive...</td>\n",
       "      <td>The delivery people were not careful with the ...</td>\n",
       "      <td>https://m.media-amazon.com/images/I/51uVckL1jR...</td>\n",
       "      <td>https://www.amazon.in/Sony-Bravia-inches-Googl...</td>\n",
       "    </tr>\n",
       "  </tbody>\n",
       "</table>\n",
       "</div>"
      ],
      "text/plain": [
       "     product_id                                       product_name  \\\n",
       "249  B09WN3SRC7  Sony Bravia 164 cm (65 inches) 4K Ultra HD Sma...   \n",
       "\n",
       "                                              category  discounted_price  \\\n",
       "249  Electronics|HomeTheater,TV&Video|Televisions|S...           77990.0   \n",
       "\n",
       "     actual_price  discount_percentage  rating  rating_count  \\\n",
       "249      139900.0                 0.44     4.7        5935.0   \n",
       "\n",
       "                                         about_product  \\\n",
       "249  Resolution: 4K Ultra HD (3840 x 2160) | Refres...   \n",
       "\n",
       "                                               user_id  \\\n",
       "249  AF6Z2OYIXRPZJHVYN2MFKKYHPHFQ,AH5SAORYVUN5MGIBL...   \n",
       "\n",
       "                                             user_name  \\\n",
       "249  David P.,Dr. ATUL THAKUR,Shriniwas Patil,Tahir...   \n",
       "\n",
       "                                             review_id  \\\n",
       "249  R16HCZ0W1TRSMM,R12J7UKQ0FX3O9,R8729SR7LQFUU,R1...   \n",
       "\n",
       "                                          review_title  \\\n",
       "249  Product installation was excellent  but delive...   \n",
       "\n",
       "                                        review_content  \\\n",
       "249  The delivery people were not careful with the ...   \n",
       "\n",
       "                                              img_link  \\\n",
       "249  https://m.media-amazon.com/images/I/51uVckL1jR...   \n",
       "\n",
       "                                          product_link  \n",
       "249  https://www.amazon.in/Sony-Bravia-inches-Googl...  "
      ]
     },
     "execution_count": 73,
     "metadata": {},
     "output_type": "execute_result"
    }
   ],
   "source": [
    "# above we can the point that has high price as well as high rating , lets check the product details \n",
    "\n",
    "df[(df['actual_price']>130000) & (df['rating']>4.5)]\n",
    "\n",
    "# Sony Bravia 164 cm (65 inches) 4K  is product performin very well stand alone at  high price with high ratings"
   ]
  },
  {
   "cell_type": "code",
   "execution_count": 75,
   "id": "575fb661-a52b-4b99-a0bd-cada4a281477",
   "metadata": {},
   "outputs": [],
   "source": [
    "# dont show warnings\n",
    "import warnings\n",
    "warnings.filterwarnings('ignore')"
   ]
  },
  {
   "cell_type": "markdown",
   "id": "a5621ef3-9d91-45b6-a819-d5e8633f667f",
   "metadata": {},
   "source": [
    "# Histogram - to see frequency of actual price "
   ]
  },
  {
   "cell_type": "code",
   "execution_count": 77,
   "id": "c005368d-35f9-4160-baf6-3254e08becc5",
   "metadata": {
    "scrolled": true
   },
   "outputs": [
    {
     "data": {
      "image/png": "[encoded data removed]",
      "text/plain": [
       "<Figure size 640x480 with 1 Axes>"
      ]
     },
     "metadata": {},
     "output_type": "display_data"
    }
   ],
   "source": [
    "# Plot distribution of actual_price\n",
    "plt.hist(df['actual_price'])\n",
    "plt.xlabel('Actual Price')\n",
    "plt.ylabel('Frequency')\n",
    "plt.show()"
   ]
  },
  {
   "cell_type": "markdown",
   "id": "362cb2be-9ba9-4a18-a4f8-8ad47e9a5b87",
   "metadata": {},
   "source": [
    "# Top 5 product with highest rating"
   ]
  },
  {
   "cell_type": "code",
   "execution_count": 121,
   "id": "d7bf5d26-bf5b-434c-9dcc-31626d979170",
   "metadata": {},
   "outputs": [
    {
     "data": {
      "text/plain": [
       "product_id\n",
       "B002PD61Y4    4.1\n",
       "B002SZEOLG    4.2\n",
       "B003B00484    4.3\n",
       "B003L62T7W    4.3\n",
       "B004IO5BMQ    4.5\n",
       "Name: rating, dtype: float64"
      ]
     },
     "execution_count": 121,
     "metadata": {},
     "output_type": "execute_result"
    }
   ],
   "source": [
    "\n",
    "product_rating = df.groupby('product_id')['rating'].mean().sort_values(ascending=False).head(5)\n",
    "product"
   ]
  },
  {
   "cell_type": "code",
   "execution_count": 119,
   "id": "7995bfbb-6c1a-46a2-ba67-b94c39204cf5",
   "metadata": {},
   "outputs": [
    {
     "data": {
      "image/png": "[encoded data removed]",
      "text/plain": [
       "<Figure size 600x600 with 1 Axes>"
      ]
     },
     "metadata": {},
     "output_type": "display_data"
    }
   ],
   "source": [
    "# Create custom labels with both Product ID and Rating\n",
    "labels = [f\"{idx}\\n({round(rating, 1)})\" for idx, rating in product.items()]\n",
    "\n",
    "# Plot pie chart\n",
    "plt.figure(figsize=(6, 6))\n",
    "plt.pie(product.values, labels=labels, autopct='%1.1f%%', startangle=140)\n",
    "plt.title(\"Average Rating per Product\")\n",
    "plt.axis('equal')  # Ensures pie is drawn as a circle\n",
    "plt.show()"
   ]
  },
  {
   "cell_type": "markdown",
   "id": "d6b71159-ef94-4d57-9dd2-37d596d15606",
   "metadata": {},
   "source": [
    "# Correlation analysis"
   ]
  },
  {
   "cell_type": "markdown",
   "id": "2f0cbd30-e4ac-478f-aadb-907c02dfb2af",
   "metadata": {},
   "source": [
    "## we need only numerical column especially the price and rating related columns so we will create a dataframe for numerical data and copy numerical data"
   ]
  },
  {
   "cell_type": "code",
   "execution_count": 106,
   "id": "c4e4f052-cfe1-43ca-ae1c-ce611b4c2556",
   "metadata": {},
   "outputs": [
    {
     "data": {
      "text/html": [
       "<div>\n",
       "<style scoped>\n",
       "    .dataframe tbody tr th:only-of-type {\n",
       "        vertical-align: middle;\n",
       "    }\n",
       "\n",
       "    .dataframe tbody tr th {\n",
       "        vertical-align: top;\n",
       "    }\n",
       "\n",
       "    .dataframe thead th {\n",
       "        text-align: right;\n",
       "    }\n",
       "</style>\n",
       "<table border=\"1\" class=\"dataframe\">\n",
       "  <thead>\n",
       "    <tr style=\"text-align: right;\">\n",
       "      <th></th>\n",
       "      <th>discounted_price</th>\n",
       "      <th>actual_price</th>\n",
       "      <th>discount_percentage</th>\n",
       "      <th>rating</th>\n",
       "      <th>rating_count</th>\n",
       "    </tr>\n",
       "  </thead>\n",
       "  <tbody>\n",
       "    <tr>\n",
       "      <th>0</th>\n",
       "      <td>399.0</td>\n",
       "      <td>1099.0</td>\n",
       "      <td>0.64</td>\n",
       "      <td>4.2</td>\n",
       "      <td>24269.0</td>\n",
       "    </tr>\n",
       "    <tr>\n",
       "      <th>1</th>\n",
       "      <td>199.0</td>\n",
       "      <td>349.0</td>\n",
       "      <td>0.43</td>\n",
       "      <td>4.0</td>\n",
       "      <td>43994.0</td>\n",
       "    </tr>\n",
       "    <tr>\n",
       "      <th>2</th>\n",
       "      <td>199.0</td>\n",
       "      <td>1899.0</td>\n",
       "      <td>0.90</td>\n",
       "      <td>3.9</td>\n",
       "      <td>7928.0</td>\n",
       "    </tr>\n",
       "    <tr>\n",
       "      <th>3</th>\n",
       "      <td>329.0</td>\n",
       "      <td>699.0</td>\n",
       "      <td>0.53</td>\n",
       "      <td>4.2</td>\n",
       "      <td>94363.0</td>\n",
       "    </tr>\n",
       "    <tr>\n",
       "      <th>4</th>\n",
       "      <td>154.0</td>\n",
       "      <td>399.0</td>\n",
       "      <td>0.61</td>\n",
       "      <td>4.2</td>\n",
       "      <td>16905.0</td>\n",
       "    </tr>\n",
       "    <tr>\n",
       "      <th>...</th>\n",
       "      <td>...</td>\n",
       "      <td>...</td>\n",
       "      <td>...</td>\n",
       "      <td>...</td>\n",
       "      <td>...</td>\n",
       "    </tr>\n",
       "    <tr>\n",
       "      <th>1460</th>\n",
       "      <td>379.0</td>\n",
       "      <td>919.0</td>\n",
       "      <td>0.59</td>\n",
       "      <td>4.0</td>\n",
       "      <td>1090.0</td>\n",
       "    </tr>\n",
       "    <tr>\n",
       "      <th>1461</th>\n",
       "      <td>2280.0</td>\n",
       "      <td>3045.0</td>\n",
       "      <td>0.25</td>\n",
       "      <td>4.1</td>\n",
       "      <td>4118.0</td>\n",
       "    </tr>\n",
       "    <tr>\n",
       "      <th>1462</th>\n",
       "      <td>2219.0</td>\n",
       "      <td>3080.0</td>\n",
       "      <td>0.28</td>\n",
       "      <td>3.6</td>\n",
       "      <td>468.0</td>\n",
       "    </tr>\n",
       "    <tr>\n",
       "      <th>1463</th>\n",
       "      <td>1399.0</td>\n",
       "      <td>1890.0</td>\n",
       "      <td>0.26</td>\n",
       "      <td>4.0</td>\n",
       "      <td>8031.0</td>\n",
       "    </tr>\n",
       "    <tr>\n",
       "      <th>1464</th>\n",
       "      <td>2863.0</td>\n",
       "      <td>3690.0</td>\n",
       "      <td>0.22</td>\n",
       "      <td>4.3</td>\n",
       "      <td>6987.0</td>\n",
       "    </tr>\n",
       "  </tbody>\n",
       "</table>\n",
       "<p>1465 rows × 5 columns</p>\n",
       "</div>"
      ],
      "text/plain": [
       "      discounted_price  actual_price  discount_percentage  rating  \\\n",
       "0                399.0        1099.0                 0.64     4.2   \n",
       "1                199.0         349.0                 0.43     4.0   \n",
       "2                199.0        1899.0                 0.90     3.9   \n",
       "3                329.0         699.0                 0.53     4.2   \n",
       "4                154.0         399.0                 0.61     4.2   \n",
       "...                ...           ...                  ...     ...   \n",
       "1460             379.0         919.0                 0.59     4.0   \n",
       "1461            2280.0        3045.0                 0.25     4.1   \n",
       "1462            2219.0        3080.0                 0.28     3.6   \n",
       "1463            1399.0        1890.0                 0.26     4.0   \n",
       "1464            2863.0        3690.0                 0.22     4.3   \n",
       "\n",
       "      rating_count  \n",
       "0          24269.0  \n",
       "1          43994.0  \n",
       "2           7928.0  \n",
       "3          94363.0  \n",
       "4          16905.0  \n",
       "...            ...  \n",
       "1460        1090.0  \n",
       "1461        4118.0  \n",
       "1462         468.0  \n",
       "1463        8031.0  \n",
       "1464        6987.0  \n",
       "\n",
       "[1465 rows x 5 columns]"
      ]
     },
     "execution_count": 106,
     "metadata": {},
     "output_type": "execute_result"
    }
   ],
   "source": [
    "#copy numeric col into new dataframe for corr() \n",
    "numeric_col = ['discounted_price','actual_price','discount_percentage','rating','rating_count']\n",
    "df_nums= df[numeric_col].copy()\n",
    "df_nums"
   ]
  },
  {
   "cell_type": "code",
   "execution_count": 108,
   "id": "c4e2e86e-f716-473a-a469-7e7abd33ef67",
   "metadata": {},
   "outputs": [
    {
     "name": "stdout",
     "output_type": "stream",
     "text": [
      "                     discounted_price  actual_price  discount_percentage  \\\n",
      "discounted_price             1.000000      0.961915            -0.242412   \n",
      "actual_price                 0.961915      1.000000            -0.118098   \n",
      "discount_percentage         -0.242412     -0.118098             1.000000   \n",
      "rating                       0.120335      0.121636            -0.155273   \n",
      "rating_count                -0.027081     -0.035959             0.011097   \n",
      "\n",
      "                       rating  rating_count  \n",
      "discounted_price     0.120335     -0.027081  \n",
      "actual_price         0.121636     -0.035959  \n",
      "discount_percentage -0.155273      0.011097  \n",
      "rating               1.000000      0.101526  \n",
      "rating_count         0.101526      1.000000  \n"
     ]
    },
    {
     "data": {
      "image/png": "[encoded data removed]",
      "text/plain": [
       "<Figure size 640x480 with 2 Axes>"
      ]
     },
     "metadata": {},
     "output_type": "display_data"
    }
   ],
   "source": [
    "# creating correlation matrix\n",
    "corr_matrix = df_nums.corr()\n",
    "\n",
    "print(corr_matrix)\n",
    "\n",
    "# creating heatmap to visualize the correlation\n",
    "sns.heatmap(corr_matrix, annot=True)\n",
    "plt.show()"
   ]
  },
  {
   "cell_type": "code",
   "execution_count": 110,
   "id": "1acc565d-369a-40da-955e-3a812177dbe2",
   "metadata": {},
   "outputs": [
    {
     "name": "stdout",
     "output_type": "stream",
     "text": [
      "0.12163645139700358\n"
     ]
    }
   ],
   "source": [
    "# Calculate correlation coefficient between  price and Rating\n",
    "correlation_coefficient = np.corrcoef(df['actual_price'], df['rating'])[0, 1]\n",
    "\n",
    "# Print correlation coefficient\n",
    "print(correlation_coefficient)"
   ]
  },
  {
   "cell_type": "code",
   "execution_count": 112,
   "id": "1d650303-c82e-4005-91a3-3bc942ee211c",
   "metadata": {
    "scrolled": true
   },
   "outputs": [
    {
     "data": {
      "image/png": "[encoded data removed]",
      "text/plain": [
       "<Figure size 640x480 with 1 Axes>"
      ]
     },
     "metadata": {},
     "output_type": "display_data"
    }
   ],
   "source": [
    "sns.scatterplot(x=df['actual_price'], y=df['rating'])\n",
    "plt.title(\"Scatterplot: Actual Price vs Rating\")\n",
    "plt.show()\n"
   ]
  },
  {
   "cell_type": "markdown",
   "id": "4300811d-0e60-4a6d-878c-a5178ef17fb1",
   "metadata": {},
   "source": [
    "# The analysis reveals a very weak positive correlation between product price and rating, indicating that higher prices do not strongly correspond with higher customer ratings\n",
    "\n",
    "# ***Additionally, there is one noticeable outlier — a product with both a significantly high price and high rating. This anomaly could be attributed to several factors such as premium quality, brand value, exclusive features, or strong customer loyalty.***"
   ]
  },
  {
   "cell_type": "code",
   "execution_count": 123,
   "id": "48ad82c5-79e2-49a3-96a3-d0e4f5f7d672",
   "metadata": {},
   "outputs": [],
   "source": [
    "df.to_csv('Amazoncleandataset.csv', index=False)\n"
   ]
  },
  {
   "cell_type": "code",
   "execution_count": 141,
   "id": "8d4a019b-c9f5-4562-b3d9-29e151825686",
   "metadata": {},
   "outputs": [
    {
     "data": {
      "image/png": "[encoded data removed]",
      "text/plain": [
       "<Figure size 640x480 with 1 Axes>"
      ]
     },
     "metadata": {},
     "output_type": "display_data"
    }
   ],
   "source": [
    "plt.bar(df['category'],df['discounted_price'])\n",
    "plt.show()"
   ]
  },
  {
   "cell_type": "code",
   "execution_count": 149,
   "id": "f4f569be-e69a-4209-bd66-7e7c6b6c7b47",
   "metadata": {},
   "outputs": [
    {
     "data": {
      "text/plain": [
       "<seaborn.axisgrid.PairGrid at 0x1a64a65b380>"
      ]
     },
     "execution_count": 149,
     "metadata": {},
     "output_type": "execute_result"
    }
   ],
   "source": [
    "sns.pairplot(df) \n",
    "plt.show"
   ]
  },
  {
   "cell_type": "code",
   "execution_count": null,
   "id": "1dbbbbbd-94af-4bb6-94a2-ee5b28397548",
   "metadata": {},
   "outputs": [],
   "source": []
  },
  {
   "cell_type": "code",
   "execution_count": null,
   "id": "1d307824-5e10-447a-92e4-bf93e255c7b4",
   "metadata": {},
   "outputs": [],
   "source": []
  },
  {
   "cell_type": "code",
   "execution_count": null,
   "id": "efd18a4e-e3e9-41ab-82a3-69c9b34846cd",
   "metadata": {},
   "outputs": [],
   "source": []
  },
  {
   "cell_type": "code",
   "execution_count": null,
   "id": "d8df1367-b254-476d-bafd-f07c1bfe2d54",
   "metadata": {},
   "outputs": [],
   "source": []
  },
  {
   "cell_type": "code",
   "execution_count": null,
   "id": "bcd9c989-1b5a-4398-ac58-2ce39789a865",
   "metadata": {},
   "outputs": [],
   "source": []
  },
  {
   "cell_type": "code",
   "execution_count": null,
   "id": "df232198-05c2-4d1e-b306-e34950272d44",
   "metadata": {},
   "outputs": [],
   "source": []
  },
  {
   "cell_type": "code",
   "execution_count": null,
   "id": "8b64228b-5adb-497c-add7-e96b7b084383",
   "metadata": {},
   "outputs": [],
   "source": []
  },
  {
   "cell_type": "code",
   "execution_count": null,
   "id": "4c947b81-d6e4-4e63-b9c5-2886d166144e",
   "metadata": {},
   "outputs": [],
   "source": []
  },
  {
   "cell_type": "code",
   "execution_count": null,
   "id": "a2a363f6-91cb-47f3-8176-07ff8fe9e310",
   "metadata": {},
   "outputs": [],
   "source": []
  }
 ],
 "metadata": {
  "kernelspec": {
   "display_name": "Python [conda env:base] *",
   "language": "python",
   "name": "conda-base-py"
  },
  "language_info": {
   "codemirror_mode": {
    "name": "ipython",
    "version": 3
   },
   "file_extension": ".py",
   "mimetype": "text/x-python",
   "name": "python",
   "nbconvert_exporter": "python",
   "pygments_lexer": "ipython3",
   "version": "3.12.7"
  }
 },
 "nbformat": 4,
 "nbformat_minor": 5
}
